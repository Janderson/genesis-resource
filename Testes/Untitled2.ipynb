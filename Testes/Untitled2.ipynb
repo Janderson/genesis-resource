{
 "cells": [
  {
   "cell_type": "code",
   "execution_count": 2,
   "metadata": {
    "ExecuteTime": {
     "end_time": "2018-08-15T14:17:08.187372Z",
     "start_time": "2018-08-15T14:17:08.183390Z"
    }
   },
   "outputs": [],
   "source": [
    "from tiingo import TiingoClient\n",
    "# Set TIINGO_API_KEY in your environment variables in your .bash_profile, OR\n",
    "# pass a dictionary with 'api_key' as a key into the TiingoClient.\n",
    "config = {}\n",
    "\n",
    "# To reuse the same HTTP Session across API calls (and have better performance), include a session key.\n",
    "config['session'] = True\n",
    "\n",
    "# If you don't have your API key as an environment variable,\n",
    "# pass it in via a configuration dictionary.\n",
    "config['api_key'] = \"7dbb0ad61285a3ce21ba49c431578d56150feb95\"\n",
    "\n",
    "# Initialize\n",
    "client = TiingoClient(config)\n"
   ]
  },
  {
   "cell_type": "code",
   "execution_count": 3,
   "metadata": {
    "ExecuteTime": {
     "end_time": "2018-08-15T14:17:48.349970Z",
     "start_time": "2018-08-15T14:17:47.225018Z"
    }
   },
   "outputs": [],
   "source": [
    "ticker_metadata = client.get_ticker_metadata(\"GOOGL\")\n",
    "\n"
   ]
  },
  {
   "cell_type": "code",
   "execution_count": 4,
   "metadata": {
    "ExecuteTime": {
     "end_time": "2018-08-15T14:17:53.952489Z",
     "start_time": "2018-08-15T14:17:53.943479Z"
    }
   },
   "outputs": [
    {
     "data": {
      "text/plain": [
       "{'name': 'Alphabet Inc.(\"Google\") - Class A',\n",
       " 'startDate': '2004-08-19',\n",
       " 'ticker': 'GOOGL',\n",
       " 'endDate': '2018-08-14',\n",
       " 'description': \"Google Inc. (Google) is a global technology company. The Company's business is primarily focused around key areas, such as search, advertising, operating systems and platforms, enterprise and hardware products. The Company generates revenue primarily by delivering online advertising. The Company also generates revenues from Motorola by selling hardware products. The Company provides its products and services in more than 100 languages and in more than 50 countries, regions, and territories. Effective May 16, 2014, Google Inc acquired Quest Visual Inc. Effective May 20, 2014, Google Inc acquired Enterproid Inc, doing business as Divide. In June 2014, Google Inc acquired mDialog Corp. Effective June 25, 2014, Google Inc acquired Appurify Inc, a San Francisco-based developer of mobile bugging application software.\",\n",
       " 'exchangeCode': 'NASDAQ'}"
      ]
     },
     "execution_count": 4,
     "metadata": {},
     "output_type": "execute_result"
    }
   ],
   "source": [
    "ticker_metadata"
   ]
  },
  {
   "cell_type": "code",
   "execution_count": 5,
   "metadata": {
    "ExecuteTime": {
     "end_time": "2018-08-15T14:18:51.547726Z",
     "start_time": "2018-08-15T14:18:51.325822Z"
    }
   },
   "outputs": [],
   "source": [
    "ticker_history = client.get_dataframe(\"GOOGL\")"
   ]
  },
  {
   "cell_type": "code",
   "execution_count": 7,
   "metadata": {
    "ExecuteTime": {
     "end_time": "2018-08-15T14:19:43.570733Z",
     "start_time": "2018-08-15T14:19:43.557738Z"
    }
   },
   "outputs": [
    {
     "data": {
      "text/html": [
       "<div>\n",
       "<style scoped>\n",
       "    .dataframe tbody tr th:only-of-type {\n",
       "        vertical-align: middle;\n",
       "    }\n",
       "\n",
       "    .dataframe tbody tr th {\n",
       "        vertical-align: top;\n",
       "    }\n",
       "\n",
       "    .dataframe thead th {\n",
       "        text-align: right;\n",
       "    }\n",
       "</style>\n",
       "<table border=\"1\" class=\"dataframe\">\n",
       "  <thead>\n",
       "    <tr style=\"text-align: right;\">\n",
       "      <th></th>\n",
       "      <th>adjClose</th>\n",
       "      <th>adjHigh</th>\n",
       "      <th>adjLow</th>\n",
       "      <th>adjOpen</th>\n",
       "      <th>adjVolume</th>\n",
       "      <th>close</th>\n",
       "      <th>divCash</th>\n",
       "      <th>high</th>\n",
       "      <th>low</th>\n",
       "      <th>open</th>\n",
       "      <th>splitFactor</th>\n",
       "      <th>volume</th>\n",
       "    </tr>\n",
       "    <tr>\n",
       "      <th>date</th>\n",
       "      <th></th>\n",
       "      <th></th>\n",
       "      <th></th>\n",
       "      <th></th>\n",
       "      <th></th>\n",
       "      <th></th>\n",
       "      <th></th>\n",
       "      <th></th>\n",
       "      <th></th>\n",
       "      <th></th>\n",
       "      <th></th>\n",
       "      <th></th>\n",
       "    </tr>\n",
       "  </thead>\n",
       "  <tbody>\n",
       "    <tr>\n",
       "      <th>2018-08-14</th>\n",
       "      <td>1258.14</td>\n",
       "      <td>1260.59</td>\n",
       "      <td>1239.54</td>\n",
       "      <td>1252.5</td>\n",
       "      <td>1403991</td>\n",
       "      <td>1258.14</td>\n",
       "      <td>0.0</td>\n",
       "      <td>1260.59</td>\n",
       "      <td>1239.54</td>\n",
       "      <td>1252.5</td>\n",
       "      <td>1.0</td>\n",
       "      <td>1403991</td>\n",
       "    </tr>\n",
       "  </tbody>\n",
       "</table>\n",
       "</div>"
      ],
      "text/plain": [
       "            adjClose  adjHigh   adjLow  adjOpen  adjVolume    close  divCash  \\\n",
       "date                                                                           \n",
       "2018-08-14   1258.14  1260.59  1239.54   1252.5    1403991  1258.14      0.0   \n",
       "\n",
       "               high      low    open  splitFactor   volume  \n",
       "date                                                        \n",
       "2018-08-14  1260.59  1239.54  1252.5          1.0  1403991  "
      ]
     },
     "execution_count": 7,
     "metadata": {},
     "output_type": "execute_result"
    }
   ],
   "source": [
    "ticker_history"
   ]
  }
 ],
 "metadata": {
  "kernelspec": {
   "display_name": "Python 3",
   "language": "python",
   "name": "python3"
  },
  "language_info": {
   "codemirror_mode": {
    "name": "ipython",
    "version": 3
   },
   "file_extension": ".py",
   "mimetype": "text/x-python",
   "name": "python",
   "nbconvert_exporter": "python",
   "pygments_lexer": "ipython3",
   "version": "3.6.5"
  }
 },
 "nbformat": 4,
 "nbformat_minor": 2
}
