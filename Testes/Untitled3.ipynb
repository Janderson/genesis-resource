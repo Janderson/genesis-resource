{
 "cells": [
  {
   "cell_type": "code",
   "execution_count": 5,
   "metadata": {
    "ExecuteTime": {
     "end_time": "2018-08-15T15:30:20.211604Z",
     "start_time": "2018-08-15T15:30:20.128629Z"
    }
   },
   "outputs": [
    {
     "name": "stdout",
     "output_type": "stream",
     "text": [
      "The autoreload extension is already loaded. To reload it, use:\n",
      "  %reload_ext autoreload\n"
     ]
    }
   ],
   "source": [
    "import pandas as pd\n",
    "from pandas import Series, DataFrame\n",
    "import numpy as np\n",
    "import sys\n",
    "sys.path.append(\"../../../\")\n",
    "%matplotlib inline\n",
    "\n",
    "import plotly.plotly as py\n",
    "import plotly.graph_objs as go\n",
    "%matplotlib inline\n",
    "%load_ext autoreload\n",
    "%autoreload 2\n",
    "\n",
    "from genesis.persistence.CollectionSymbolPersistence import CollectionSymbolPersistence"
   ]
  },
  {
   "cell_type": "code",
   "execution_count": 9,
   "metadata": {
    "ExecuteTime": {
     "end_time": "2018-08-15T15:30:37.756608Z",
     "start_time": "2018-08-15T15:30:37.672642Z"
    }
   },
   "outputs": [],
   "source": [
    "df = CollectionSymbolPersistence.get().to_df()"
   ]
  },
  {
   "cell_type": "code",
   "execution_count": 12,
   "metadata": {
    "ExecuteTime": {
     "end_time": "2018-08-15T15:31:24.654506Z",
     "start_time": "2018-08-15T15:31:24.576531Z"
    }
   },
   "outputs": [
    {
     "data": {
      "text/plain": [
       "7300"
      ]
     },
     "execution_count": 12,
     "metadata": {},
     "output_type": "execute_result"
    }
   ],
   "source": [
    "len(df.symbol)"
   ]
  },
  {
   "cell_type": "code",
   "execution_count": 14,
   "metadata": {
    "ExecuteTime": {
     "end_time": "2018-08-15T15:32:40.022654Z",
     "start_time": "2018-08-15T15:32:29.874314Z"
    }
   },
   "outputs": [
    {
     "name": "stdout",
     "output_type": "stream",
     "text": [
      "Collecting iexfinance\n",
      "  Downloading https://files.pythonhosted.org/packages/61/62/f83c988be191305997a3ffe2cbea07aa346592658b5ed5f3ddb23f8bd1c0/iexfinance-0.3.4.tar.gz\n",
      "Requirement already satisfied: pandas in c:\\anaconda3\\envs\\py27\\lib\\site-packages (from iexfinance)\n",
      "Collecting requests (from iexfinance)\n",
      "  Downloading https://files.pythonhosted.org/packages/65/47/7e02164a2a3db50ed6d8a6ab1d6d60b69c4c3fdf57a284257925dfc12bda/requests-2.19.1-py2.py3-none-any.whl (91kB)\n",
      "Requirement already satisfied: pytz>=2011k in c:\\anaconda3\\envs\\py27\\lib\\site-packages (from pandas->iexfinance)\n",
      "Requirement already satisfied: numpy>=1.9.0 in c:\\anaconda3\\envs\\py27\\lib\\site-packages (from pandas->iexfinance)\n",
      "Requirement already satisfied: python-dateutil in c:\\anaconda3\\envs\\py27\\lib\\site-packages (from pandas->iexfinance)\n",
      "Collecting idna<2.8,>=2.5 (from requests->iexfinance)\n",
      "  Downloading https://files.pythonhosted.org/packages/4b/2a/0276479a4b3caeb8a8c1af2f8e4355746a97fab05a372e4a2c6a6b876165/idna-2.7-py2.py3-none-any.whl (58kB)\n",
      "Collecting urllib3<1.24,>=1.21.1 (from requests->iexfinance)\n",
      "  Downloading https://files.pythonhosted.org/packages/bd/c9/6fdd990019071a4a32a5e7cb78a1d92c53851ef4f56f62a3486e6a7d8ffb/urllib3-1.23-py2.py3-none-any.whl (133kB)\n",
      "Collecting chardet<3.1.0,>=3.0.2 (from requests->iexfinance)\n",
      "  Downloading https://files.pythonhosted.org/packages/bc/a9/01ffebfb562e4274b6487b4bb1ddec7ca55ec7510b22e4c51f14098443b8/chardet-3.0.4-py2.py3-none-any.whl (133kB)\n",
      "Requirement already satisfied: certifi>=2017.4.17 in c:\\anaconda3\\envs\\py27\\lib\\site-packages (from requests->iexfinance)\n",
      "Requirement already satisfied: six>=1.5 in c:\\anaconda3\\envs\\py27\\lib\\site-packages (from python-dateutil->pandas->iexfinance)\n",
      "Building wheels for collected packages: iexfinance\n",
      "  Running setup.py bdist_wheel for iexfinance: started\n",
      "  Running setup.py bdist_wheel for iexfinance: finished with status 'done'\n",
      "  Stored in directory: C:\\Users\\JandersonFerreira\\AppData\\Local\\pip\\Cache\\wheels\\5c\\35\\28\\53ff25c3020889cc68e46d98f644ccc8bbb5a073521eb19c06\n",
      "Successfully built iexfinance\n",
      "Installing collected packages: idna, urllib3, chardet, requests, iexfinance\n",
      "Successfully installed chardet-3.0.4 idna-2.7 iexfinance-0.3.4 requests-2.19.1 urllib3-1.23\n"
     ]
    },
    {
     "name": "stderr",
     "output_type": "stream",
     "text": [
      "  Cache entry deserialization failed, entry ignored\n",
      "You are using pip version 9.0.1, however version 18.0 is available.\n",
      "You should consider upgrading via the 'python -m pip install --upgrade pip' command.\n"
     ]
    }
   ],
   "source": [
    "!pip install iexfinance"
   ]
  },
  {
   "cell_type": "code",
   "execution_count": 16,
   "metadata": {
    "ExecuteTime": {
     "end_time": "2018-08-15T15:33:48.411832Z",
     "start_time": "2018-08-15T15:33:48.319861Z"
    }
   },
   "outputs": [
    {
     "ename": "ModuleNotFoundError",
     "evalue": "No module named 'iexfinance'",
     "output_type": "error",
     "traceback": [
      "\u001b[1;31m---------------------------------------------------------------------------\u001b[0m",
      "\u001b[1;31mModuleNotFoundError\u001b[0m                       Traceback (most recent call last)",
      "\u001b[1;32m<ipython-input-16-5b3dda1bdf11>\u001b[0m in \u001b[0;36m<module>\u001b[1;34m()\u001b[0m\n\u001b[1;32m----> 1\u001b[1;33m \u001b[1;32mfrom\u001b[0m \u001b[0miexfinance\u001b[0m \u001b[1;32mimport\u001b[0m \u001b[0mget_available_symbols\u001b[0m\u001b[1;33m\u001b[0m\u001b[0m\n\u001b[0m\u001b[0;32m      2\u001b[0m \u001b[1;33m\u001b[0m\u001b[0m\n\u001b[0;32m      3\u001b[0m \u001b[0mget_available_symbols\u001b[0m\u001b[1;33m(\u001b[0m\u001b[0moutput_format\u001b[0m\u001b[1;33m=\u001b[0m\u001b[1;34m'pandas'\u001b[0m\u001b[1;33m)\u001b[0m\u001b[1;33m[\u001b[0m\u001b[1;33m:\u001b[0m\u001b[1;36m2\u001b[0m\u001b[1;33m]\u001b[0m\u001b[1;33m\u001b[0m\u001b[0m\n",
      "\u001b[1;31mModuleNotFoundError\u001b[0m: No module named 'iexfinance'"
     ]
    }
   ],
   "source": [
    "from iexfinance import get_available_symbols\n",
    "\n",
    "get_available_symbols(output_format='pandas')[:2]"
   ]
  },
  {
   "cell_type": "code",
   "execution_count": 52,
   "metadata": {
    "ExecuteTime": {
     "end_time": "2018-08-15T16:23:59.322678Z",
     "start_time": "2018-08-15T16:23:58.188635Z"
    }
   },
   "outputs": [],
   "source": [
    "import requests\n",
    "req = requests.get(\"https://api.iextrading.com/1.0/stock/market/batch?symbols=aapl,ts,mstf&types=quote&range=1d&last=5\")\n",
    "\n",
    "data  = req.json()"
   ]
  },
  {
   "cell_type": "code",
   "execution_count": 46,
   "metadata": {
    "ExecuteTime": {
     "end_time": "2018-08-15T16:01:35.530795Z",
     "start_time": "2018-08-15T16:01:35.450821Z"
    }
   },
   "outputs": [
    {
     "data": {
      "text/plain": [
       "['AAPL', 'TS', 'MSTF']"
      ]
     },
     "execution_count": 46,
     "metadata": {},
     "output_type": "execute_result"
    }
   ],
   "source": [
    "symbols_list = \"aapl,ts,mstf\".upper().split(\",\")\n",
    "symbols_list\n",
    "#data = data.json()\n",
    "#[ data[symbol][\"quote\"] for symbol in list(data.keys())]\n"
   ]
  },
  {
   "cell_type": "code",
   "execution_count": 51,
   "metadata": {
    "ExecuteTime": {
     "end_time": "2018-08-15T16:17:06.426368Z",
     "start_time": "2018-08-15T16:17:06.308406Z"
    }
   },
   "outputs": [
    {
     "data": {
      "text/html": [
       "<div>\n",
       "<style scoped>\n",
       "    .dataframe tbody tr th:only-of-type {\n",
       "        vertical-align: middle;\n",
       "    }\n",
       "\n",
       "    .dataframe tbody tr th {\n",
       "        vertical-align: top;\n",
       "    }\n",
       "\n",
       "    .dataframe thead th {\n",
       "        text-align: right;\n",
       "    }\n",
       "</style>\n",
       "<table border=\"1\" class=\"dataframe\">\n",
       "  <thead>\n",
       "    <tr style=\"text-align: right;\">\n",
       "      <th></th>\n",
       "      <th>Unnamed: 0</th>\n",
       "      <th>avgTotalVolume</th>\n",
       "      <th>calculationPrice</th>\n",
       "      <th>change</th>\n",
       "      <th>changePercent</th>\n",
       "      <th>close</th>\n",
       "      <th>closeTime</th>\n",
       "      <th>companyName</th>\n",
       "      <th>delayedPrice</th>\n",
       "      <th>delayedPriceTime</th>\n",
       "      <th>...</th>\n",
       "      <th>open</th>\n",
       "      <th>openTime</th>\n",
       "      <th>peRatio</th>\n",
       "      <th>previousClose</th>\n",
       "      <th>primaryExchange</th>\n",
       "      <th>sector</th>\n",
       "      <th>symbol</th>\n",
       "      <th>week52High</th>\n",
       "      <th>week52Low</th>\n",
       "      <th>ytdChange</th>\n",
       "    </tr>\n",
       "  </thead>\n",
       "  <tbody>\n",
       "    <tr>\n",
       "      <th>1</th>\n",
       "      <td>1</td>\n",
       "      <td>23713399</td>\n",
       "      <td>tops</td>\n",
       "      <td>-1.32</td>\n",
       "      <td>-0.00629</td>\n",
       "      <td>209.75</td>\n",
       "      <td>1534276800276</td>\n",
       "      <td>Apple Inc.</td>\n",
       "      <td>208.82</td>\n",
       "      <td>1534347926802</td>\n",
       "      <td>...</td>\n",
       "      <td>209.0</td>\n",
       "      <td>1534339800747</td>\n",
       "      <td>20.12</td>\n",
       "      <td>209.75</td>\n",
       "      <td>Nasdaq Global Select</td>\n",
       "      <td>Technology</td>\n",
       "      <td>AAPL</td>\n",
       "      <td>210.952</td>\n",
       "      <td>149.16</td>\n",
       "      <td>0.22533</td>\n",
       "    </tr>\n",
       "  </tbody>\n",
       "</table>\n",
       "<p>1 rows × 41 columns</p>\n",
       "</div>"
      ],
      "text/plain": [
       "   Unnamed: 0  avgTotalVolume calculationPrice  change  changePercent   close  \\\n",
       "1           1        23713399             tops   -1.32       -0.00629  209.75   \n",
       "\n",
       "       closeTime companyName  delayedPrice  delayedPriceTime    ...      \\\n",
       "1  1534276800276  Apple Inc.        208.82     1534347926802    ...       \n",
       "\n",
       "    open       openTime  peRatio  previousClose       primaryExchange  \\\n",
       "1  209.0  1534339800747    20.12         209.75  Nasdaq Global Select   \n",
       "\n",
       "       sector  symbol  week52High  week52Low  ytdChange  \n",
       "1  Technology    AAPL     210.952     149.16    0.22533  \n",
       "\n",
       "[1 rows x 41 columns]"
      ]
     },
     "execution_count": 51,
     "metadata": {},
     "output_type": "execute_result"
    }
   ],
   "source": [
    "df = pd.read_csv(\"D:/data/temp/main.copia.csv\")\n",
    "\n",
    "df[df.symbol==\"AAPL\"]"
   ]
  }
 ],
 "metadata": {
  "kernelspec": {
   "display_name": "Python 3",
   "language": "python",
   "name": "python3"
  },
  "language_info": {
   "codemirror_mode": {
    "name": "ipython",
    "version": 3
   },
   "file_extension": ".py",
   "mimetype": "text/x-python",
   "name": "python",
   "nbconvert_exporter": "python",
   "pygments_lexer": "ipython3",
   "version": "3.6.5"
  }
 },
 "nbformat": 4,
 "nbformat_minor": 2
}
