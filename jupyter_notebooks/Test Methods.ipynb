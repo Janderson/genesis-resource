{
 "cells": [
  {
   "cell_type": "code",
   "execution_count": 1,
   "metadata": {
    "ExecuteTime": {
     "end_time": "2018-08-16T01:21:32.825970Z",
     "start_time": "2018-08-16T01:21:32.722003Z"
    }
   },
   "outputs": [
    {
     "ename": "ModuleNotFoundError",
     "evalue": "No module named 'data'",
     "output_type": "error",
     "traceback": [
      "\u001b[1;31m---------------------------------------------------------------------------\u001b[0m",
      "\u001b[1;31mModuleNotFoundError\u001b[0m                       Traceback (most recent call last)",
      "\u001b[1;32m<ipython-input-1-7ed0080356b8>\u001b[0m in \u001b[0;36m<module>\u001b[1;34m()\u001b[0m\n\u001b[1;32m----> 1\u001b[1;33m \u001b[1;32mfrom\u001b[0m \u001b[0mdata\u001b[0m\u001b[1;33m.\u001b[0m\u001b[0mmodels\u001b[0m \u001b[1;32mimport\u001b[0m \u001b[1;33m*\u001b[0m\u001b[1;33m\u001b[0m\u001b[0m\n\u001b[0m\u001b[0;32m      2\u001b[0m \u001b[1;32mfrom\u001b[0m \u001b[0mmethods\u001b[0m \u001b[1;32mimport\u001b[0m \u001b[1;33m*\u001b[0m\u001b[1;33m\u001b[0m\u001b[0m\n\u001b[0;32m      3\u001b[0m \u001b[1;32mfrom\u001b[0m \u001b[0mdata\u001b[0m\u001b[1;33m.\u001b[0m\u001b[0mquery\u001b[0m \u001b[1;32mimport\u001b[0m \u001b[1;33m*\u001b[0m\u001b[1;33m\u001b[0m\u001b[0m\n\u001b[0;32m      4\u001b[0m \u001b[1;32mimport\u001b[0m \u001b[0mmatplotlib\u001b[0m\u001b[1;33m.\u001b[0m\u001b[0mpyplot\u001b[0m \u001b[1;32mas\u001b[0m \u001b[0mplt\u001b[0m\u001b[1;33m\u001b[0m\u001b[0m\n\u001b[0;32m      5\u001b[0m \u001b[1;33m\u001b[0m\u001b[0m\n",
      "\u001b[1;31mModuleNotFoundError\u001b[0m: No module named 'data'"
     ]
    }
   ],
   "source": [
    "from data.models import *\n",
    "from methods import *\n",
    "from data.query import *\n",
    "import matplotlib.pyplot as plt\n",
    "\n",
    "%matplotlib inline\n",
    "\n",
    "%load_ext autoreload\n",
    "%autoreload 2\n",
    "%pylab inline\n",
    "pylab.rcParams['figure.figsize'] = (20, 6);"
   ]
  },
  {
   "cell_type": "code",
   "execution_count": 11,
   "metadata": {},
   "outputs": [
    {
     "name": "stderr",
     "output_type": "stream",
     "text": [
      "[autoreload of data.admin failed: Traceback (most recent call last):\n",
      "  File \"C:\\Anaconda3\\lib\\site-packages\\IPython\\extensions\\autoreload.py\", line 245, in check\n",
      "    superreload(m, reload, self.old_objects)\n",
      "  File \"C:\\Anaconda3\\lib\\site-packages\\IPython\\extensions\\autoreload.py\", line 368, in superreload\n",
      "    module = reload(module)\n",
      "  File \"C:\\Anaconda3\\lib\\imp.py\", line 315, in reload\n",
      "    return importlib.reload(module)\n",
      "  File \"C:\\Anaconda3\\lib\\importlib\\__init__.py\", line 166, in reload\n",
      "    _bootstrap._exec(spec, module)\n",
      "  File \"<frozen importlib._bootstrap>\", line 618, in _exec\n",
      "  File \"<frozen importlib._bootstrap_external>\", line 678, in exec_module\n",
      "  File \"<frozen importlib._bootstrap>\", line 219, in _call_with_frames_removed\n",
      "  File \"D:\\desenvolvimento\\ls\\genesis-backend\\genesis\\data\\admin.py\", line 12, in <module>\n",
      "    class SymbolAdmin(admin.ModelAdmin):\n",
      "  File \"C:\\Anaconda3\\lib\\site-packages\\django\\contrib\\admin\\decorators.py\", line 27, in _model_admin_wrapper\n",
      "    admin_site.register(models, admin_class=admin_class)\n",
      "  File \"C:\\Anaconda3\\lib\\site-packages\\django\\contrib\\admin\\sites.py\", line 109, in register\n",
      "    raise AlreadyRegistered('The model %s is already registered' % model.__name__)\n",
      "django.contrib.admin.sites.AlreadyRegistered: The model Symbol is already registered\n",
      "]\n"
     ]
    },
    {
     "data": {
      "text/plain": [
       "DatetimeIndex(['2018-03-01', '2018-04-01', '2018-05-01', '2018-06-01',\n",
       "               '2018-07-01'],\n",
       "              dtype='datetime64[ns]', freq='MS')"
      ]
     },
     "execution_count": 11,
     "metadata": {},
     "output_type": "execute_result"
    }
   ],
   "source": [
    "from datetime import datetime, timedelta, date\n",
    "dt_range = pd.date_range(start=date.today()-timedelta(days=130),end=datetime.now(), freq=\"MS\")\n",
    "\n",
    "\n",
    "#date.today()\n",
    "dt_range"
   ]
  },
  {
   "cell_type": "code",
   "execution_count": 67,
   "metadata": {},
   "outputs": [
    {
     "name": "stderr",
     "output_type": "stream",
     "text": [
      "[autoreload of data.market_data failed: Traceback (most recent call last):\n",
      "  File \"C:\\Anaconda3\\lib\\site-packages\\IPython\\extensions\\autoreload.py\", line 245, in check\n",
      "    superreload(m, reload, self.old_objects)\n",
      "  File \"C:\\Anaconda3\\lib\\site-packages\\IPython\\extensions\\autoreload.py\", line 368, in superreload\n",
      "    module = reload(module)\n",
      "  File \"C:\\Anaconda3\\lib\\imp.py\", line 315, in reload\n",
      "    return importlib.reload(module)\n",
      "  File \"C:\\Anaconda3\\lib\\importlib\\__init__.py\", line 166, in reload\n",
      "    _bootstrap._exec(spec, module)\n",
      "  File \"<frozen importlib._bootstrap>\", line 618, in _exec\n",
      "  File \"<frozen importlib._bootstrap_external>\", line 674, in exec_module\n",
      "  File \"<frozen importlib._bootstrap_external>\", line 781, in get_code\n",
      "  File \"<frozen importlib._bootstrap_external>\", line 741, in source_to_code\n",
      "  File \"<frozen importlib._bootstrap>\", line 219, in _call_with_frames_removed\n",
      "  File \"D:\\desenvolvimento\\ls\\genesis-backend\\genesis\\data\\market_data.py\", line 45\n",
      "    quotes_ychart = import_from_ticker(\"AAPL\", save_db=False, days=2)\n",
      "                                                                    ^\n",
      "IndentationError: expected an indented block\n",
      "]\n"
     ]
    }
   ],
   "source": [
    "quotes = quotes_to_dataframe(\"AAPL\")\n",
    "\n",
    "\n",
    "\n",
    "\n",
    "quotes_db = quotes"
   ]
  },
  {
   "cell_type": "code",
   "execution_count": 74,
   "metadata": {},
   "outputs": [
    {
     "data": {
      "text/plain": [
       "NaT"
      ]
     },
     "execution_count": 74,
     "metadata": {},
     "output_type": "execute_result"
    }
   ],
   "source": [
    "from data.market_data_common import import_from_ticker, diff_dates_from_ticker\n",
    "#quotes_ychart = import_from_ticker(\"AAPL\", save_db=False, days=2)\n",
    "#quotes_ychart.index\n",
    "\n",
    "diff_dates_from_ticker(\"A\")\n"
   ]
  },
  {
   "cell_type": "code",
   "execution_count": 90,
   "metadata": {},
   "outputs": [
    {
     "name": "stdout",
     "output_type": "stream",
     "text": [
      "django\n"
     ]
    },
    {
     "data": {
      "text/plain": [
       "Timedelta('6 days 00:00:00')"
      ]
     },
     "execution_count": 90,
     "metadata": {},
     "output_type": "execute_result"
    }
   ],
   "source": [
    "ticker= \"A\"\n",
    "quotes_ychart = import_from_ticker(ticker, save_db=False, days=2)\n",
    "\n",
    "quotes_db = quotes_to_dataframe(ticker)\n",
    "quotes_ychart.index.max() - quotes_db.index.max()\n"
   ]
  },
  {
   "cell_type": "code",
   "execution_count": 87,
   "metadata": {},
   "outputs": [
    {
     "data": {
      "text/plain": [
       "True"
      ]
     },
     "execution_count": 87,
     "metadata": {},
     "output_type": "execute_result"
    }
   ],
   "source": [
    "quotes_db.index.max() is pd.NaT"
   ]
  },
  {
   "cell_type": "code",
   "execution_count": 74,
   "metadata": {},
   "outputs": [],
   "source": [
    "#print(df1.tail())\n",
    "#print(df2.tail())\n",
    "\n",
    "#help(df2.close.subtract(df1.close))\n",
    "\n",
    "df2.close - df1.close\n",
    "#df1.subtract(df2, fill_avalue=0)\n",
    "\n",
    "#df1[\"close\"].resample(\"M\").mean().plot()\n",
    "df1.resample(\"M\").mean()\n"
   ]
  },
  {
   "cell_type": "code",
   "execution_count": 92,
   "metadata": {},
   "outputs": [
    {
     "name": "stdout",
     "output_type": "stream",
     "text": [
      "django\n",
      "ABIL --> nan  : 2018-06-25 00:00:00\n",
      "VNET --> nan  : 2018-06-25 00:00:00\n",
      "SRCE --> nan  : 2018-06-25 00:00:00\n",
      "TWOU --> nan  : 2018-06-25 00:00:00\n",
      "AEGN --> nan  : 2018-06-25 00:00:00\n",
      "CARO --> nan  : 2018-06-25 00:00:00\n"
     ]
    }
   ],
   "source": [
    "from methods import *\n",
    "\n",
    "#RompTF(vnet)\n",
    "#vnet.index = pd.to_datetime(vnet.index)\n",
    "for stock in [\"ABIL\", \"VNET\", \"SRCE\", \"TWOU\", \"AEGN\", \"CARO\"]:\n",
    "    QUOTES = quotes_to_dataframe(stock)\n",
    "    print(stock, \"-->\",round(DistMM21(QUOTES)[0],4), \" :\", QUOTES.index[-1])\n"
   ]
  },
  {
   "cell_type": "code",
   "execution_count": 10,
   "metadata": {},
   "outputs": [
    {
     "data": {
      "text/plain": [
       "56.72"
      ]
     },
     "execution_count": 10,
     "metadata": {},
     "output_type": "execute_result"
    }
   ],
   "source": [
    "from methods import *\n",
    "quotes = quotes_to_dataframe(\"SRCE\")\n",
    "H = quotes.high\n",
    "L = quotes.low\n",
    "C = quotes.close\n",
    "change = LastValue(mvh(quotes))\n",
    "\n",
    "diffHi = H - REF(H, -1)\n",
    "\n",
    "###### METASTOCK LINE ###### \n",
    "# diffLo:=Ref(L,-1)-L;\n",
    "############################\n",
    "diffLo = REF(L, -1) - L\n",
    "\n",
    "###### METASTOCK LINE ###### \n",
    "# x:=If(diffLo>diffHi,L,H);\n",
    "############################\n",
    "x = IF(diffLo>diffHi, L, H)\n",
    "\n",
    "###### METASTOCK LINE ###### \n",
    "# zz:= Zig(x,change,%);\n",
    "############################\n",
    "zz = ZIG(x, percent=change)\n",
    "\n",
    "zig = LastValue( PEAK(zz, perc_change=change, n_peak=1))\n",
    "\n",
    "zig\n",
    "#zig"
   ]
  },
  {
   "cell_type": "code",
   "execution_count": 93,
   "metadata": {},
   "outputs": [
    {
     "name": "stdout",
     "output_type": "stream",
     "text": [
      "AAOI --> 0  : 2018-06-25 00:00:00\n",
      "change:7.211047619047615 \n",
      "------\n",
      "zz: 40.0183\n",
      "------\n",
      "peak: 45.4\n",
      "------\n",
      "ifcrs 0    0\n",
      "dtype: int64\n",
      "V1: 0\n",
      "VNET --> 0  : 2018-06-25 00:00:00\n",
      "change:7.320238095238084 \n",
      "------\n",
      "zz: 8.25\n",
      "------\n",
      "peak: 8.91\n",
      "------\n",
      "ifcrs 0    0\n",
      "dtype: int64\n",
      "V1: 0\n",
      "SRCE --> 0  : 2018-06-25 00:00:00\n",
      "change:1.4949047619047642 \n",
      "------\n",
      "zz: 54.82\n",
      "------\n",
      "peak: 56.72\n",
      "------\n",
      "ifcrs 0    0\n",
      "dtype: int64\n",
      "V1: 0\n",
      "TWOU --> 0  : 2018-06-25 00:00:00\n",
      "change:3.3745714285714223 \n",
      "------\n",
      "zz: 82.2\n",
      "------\n",
      "peak: 95.9\n",
      "------\n",
      "ifcrs 0    0\n",
      "dtype: int64\n",
      "V1: 0\n",
      "AEGN --> 0  : 2018-06-25 00:00:00\n",
      "change:1.969952380952399 \n",
      "------\n",
      "zz: 25.41\n",
      "------\n",
      "peak: 26.7\n",
      "------\n",
      "ifcrs 0    0\n",
      "dtype: int64\n",
      "V1: 0\n",
      "CARO --> 0  : 2018-06-25 00:00:00\n",
      "change:2.0025238095238085 \n",
      "------\n",
      "zz: 41.83\n",
      "------\n",
      "peak: 45.025\n",
      "------\n",
      "ifcrs 0    0\n",
      "dtype: int64\n",
      "V1: 0\n",
      "ABIL --> 0  : 2018-06-25 00:00:00\n",
      "change:10.087476190476176 \n",
      "------\n",
      "zz: 10.6\n",
      "------\n",
      "peak: 2.53\n",
      "------\n",
      "ifcrs 0    0\n",
      "dtype: int64\n",
      "V1: 0\n",
      "AMOT --> 1  : 2018-06-25 00:00:00\n",
      "change:2.254428571428563 \n",
      "------\n",
      "zz: 48.03\n",
      "------\n",
      "peak: 49.0\n",
      "------\n",
      "ifcrs 0    0\n",
      "dtype: int64\n",
      "V1: 0\n",
      "AMGN --> 1  : 2018-06-25 00:00:00\n",
      "change:1.6457142857142886 \n",
      "------\n",
      "zz: 184.07\n",
      "------\n",
      "peak: 188.09\n",
      "------\n",
      "ifcrs 0    0\n",
      "dtype: int64\n",
      "V1: 0\n",
      "CRUS --> 1  : 2018-06-25 00:00:00\n",
      "change:2.5110952380952423 \n",
      "------\n",
      "zz: 41.4\n",
      "------\n",
      "peak: 38.5\n",
      "------\n",
      "ifcrs 0    0\n",
      "dtype: int64\n",
      "V1: 0\n",
      "ACAD --> 0  : 2018-06-25 00:00:00\n",
      "change:4.436047619047647 \n",
      "------\n",
      "zz: 15.57\n",
      "------\n",
      "peak: 17.47\n",
      "------\n",
      "ifcrs 0    0\n",
      "dtype: int64\n",
      "V1: 0\n"
     ]
    }
   ],
   "source": [
    "from methods import *\n",
    "for stock in [\"AAOI\", \"VNET\", \"SRCE\", \"TWOU\", \"AEGN\", \"CARO\", \"ABIL\",\"AMOT\", \"AMGN\", \"CRUS\", \"ACAD\"]:\n",
    "    QUOTES = quotes_to_dataframe(stock)\n",
    "    \n",
    "    CLOSE = QUOTES.close\n",
    "    print(stock, \"-->\", LastValue(CROSS(CLOSE, MOV(CLOSE,9, \"SIMPLE\"))), \" :\", QUOTES.index[-1])\n",
    "    quotes = QUOTES\n",
    "    H = quotes.high\n",
    "    L = quotes.low\n",
    "    C = quotes.close\n",
    "\n",
    "    ###### METASTOCK LINE ###### \n",
    "    # change:=MVH();\n",
    "    ############################\n",
    "    change = LastValue(mvh(quotes))\n",
    "\n",
    "    ###### METASTOCK LINE ###### \n",
    "    # diffHi:=H-Ref(H,-1);\n",
    "    ############################\n",
    "    diffHi = H - REF(H, -1)\n",
    "\n",
    "    ###### METASTOCK LINE ###### \n",
    "    # diffLo:=Ref(L,-1)-L;\n",
    "    ############################\n",
    "    diffLo = REF(L, -1) - L\n",
    "\n",
    "    ###### METASTOCK LINE ###### \n",
    "    # x:=If(diffLo>diffHi,L,H);\n",
    "    ############################\n",
    "    x = IF(diffLo>diffHi, L, H)\n",
    "\n",
    "    ###### METASTOCK LINE ###### \n",
    "    # zz:= Zig(x,change,%);\n",
    "    ############################\n",
    "    zz = ZIG(x, change)\n",
    "    \n",
    "    print(\"change:{} \\n------\".format(change))\n",
    "    print(\"zz: {}\\n------\".format(LastValue(zz)))\n",
    "    ifcrs = IF(CROSS(C, PEAK(zz, 1, 1)), 1, 0)\n",
    "    peak = LastValue(PEAK(zz, 1, 1))\n",
    "    print(\"peak: {}\\n------\".format(peak))\n",
    "    print(\"ifcrs {}\".format(ifcrs))\n",
    "    \n",
    "    V1 = IF(CROSS(C,PEAK(zz,1, 1)),1, IF(CROSS(TROUGH(zz,1, 1),C),-1,0))\n",
    "    print(\"V1: {}\".format(LastValue(V1)))\n"
   ]
  },
  {
   "cell_type": "code",
   "execution_count": 94,
   "metadata": {},
   "outputs": [
    {
     "name": "stdout",
     "output_type": "stream",
     "text": [
      "           direction   value\n",
      "date                        \n",
      "2018-06-19         1  17.470\n",
      "2018-06-20       NaN  16.995\n",
      "2018-06-21       NaN  16.520\n",
      "2018-06-22       NaN  16.045\n",
      "2018-06-25       NaN  15.570\n"
     ]
    },
    {
     "ename": "AttributeError",
     "evalue": "'numpy.float64' object has no attribute 'tail'",
     "output_type": "error",
     "traceback": [
      "\u001b[1;31m---------------------------------------------------------------------------\u001b[0m",
      "\u001b[1;31mAttributeError\u001b[0m                            Traceback (most recent call last)",
      "\u001b[1;32m<ipython-input-94-0e61ef913ed4>\u001b[0m in \u001b[0;36m<module>\u001b[1;34m()\u001b[0m\n\u001b[0;32m      5\u001b[0m \u001b[1;33m\u001b[0m\u001b[0m\n\u001b[0;32m      6\u001b[0m \u001b[0mprint\u001b[0m\u001b[1;33m(\u001b[0m\u001b[0mzz\u001b[0m\u001b[1;33m.\u001b[0m\u001b[0mtail\u001b[0m\u001b[1;33m(\u001b[0m\u001b[1;36m5\u001b[0m\u001b[1;33m)\u001b[0m\u001b[1;33m)\u001b[0m\u001b[1;33m\u001b[0m\u001b[0m\n\u001b[1;32m----> 7\u001b[1;33m \u001b[0mprint\u001b[0m\u001b[1;33m(\u001b[0m\u001b[0mpeak\u001b[0m\u001b[1;33m.\u001b[0m\u001b[0mtail\u001b[0m\u001b[1;33m(\u001b[0m\u001b[1;36m2\u001b[0m\u001b[1;33m)\u001b[0m\u001b[1;33m)\u001b[0m\u001b[1;33m\u001b[0m\u001b[0m\n\u001b[0m\u001b[0;32m      8\u001b[0m \u001b[1;33m\u001b[0m\u001b[0m\n\u001b[0;32m      9\u001b[0m \u001b[0mlines\u001b[0m \u001b[1;33m=\u001b[0m \u001b[1;36m10\u001b[0m\u001b[1;33m\u001b[0m\u001b[0m\n",
      "\u001b[1;31mAttributeError\u001b[0m: 'numpy.float64' object has no attribute 'tail'"
     ]
    }
   ],
   "source": [
    "\n",
    "C\n",
    "zz = ZIG(x, change, return_df=True)\n",
    "#peak =  PEAK(zz, perc_change=2, n_peak=1)\n",
    "\n",
    "print(zz.tail(5)) \n",
    "print(peak.tail(2))\n",
    "\n",
    "lines = 10\n",
    "#print(C[peak.index[-lines] : peak.index[-1]].tail(lines).plot(c=\"black\"))\n",
    "#print(peak.tail(lines).plot(c=\"r\"))"
   ]
  },
  {
   "cell_type": "code",
   "execution_count": 101,
   "metadata": {},
   "outputs": [
    {
     "name": "stdout",
     "output_type": "stream",
     "text": [
      "done\n",
      "done\n",
      "done\n",
      "done\n"
     ]
    },
    {
     "data": {
      "text/html": [
       "<div>\n",
       "<style scoped>\n",
       "    .dataframe tbody tr th:only-of-type {\n",
       "        vertical-align: middle;\n",
       "    }\n",
       "\n",
       "    .dataframe tbody tr th {\n",
       "        vertical-align: top;\n",
       "    }\n",
       "\n",
       "    .dataframe thead th {\n",
       "        text-align: right;\n",
       "    }\n",
       "</style>\n",
       "<table border=\"1\" class=\"dataframe\">\n",
       "  <thead>\n",
       "    <tr style=\"text-align: right;\">\n",
       "      <th></th>\n",
       "      <th>Corpo</th>\n",
       "      <th>DistMM21</th>\n",
       "      <th>InFor</th>\n",
       "      <th>Ticker</th>\n",
       "      <th>Trend</th>\n",
       "      <th>VolRel</th>\n",
       "    </tr>\n",
       "  </thead>\n",
       "  <tbody>\n",
       "    <tr>\n",
       "      <th>0</th>\n",
       "      <td>-0.614458</td>\n",
       "      <td>1.272863</td>\n",
       "      <td>2.7038</td>\n",
       "      <td>SRCE</td>\n",
       "      <td>0</td>\n",
       "      <td>0.666306</td>\n",
       "    </tr>\n",
       "    <tr>\n",
       "      <th>1</th>\n",
       "      <td>-0.265781</td>\n",
       "      <td>4.704651</td>\n",
       "      <td>3.6401</td>\n",
       "      <td>CARO</td>\n",
       "      <td>0</td>\n",
       "      <td>0.832600</td>\n",
       "    </tr>\n",
       "    <tr>\n",
       "      <th>2</th>\n",
       "      <td>-0.452381</td>\n",
       "      <td>-1.359361</td>\n",
       "      <td>2.6322</td>\n",
       "      <td>VNET</td>\n",
       "      <td>0</td>\n",
       "      <td>0.827672</td>\n",
       "    </tr>\n",
       "    <tr>\n",
       "      <th>3</th>\n",
       "      <td>-0.773649</td>\n",
       "      <td>-31.978758</td>\n",
       "      <td>1.1413</td>\n",
       "      <td>TWOU</td>\n",
       "      <td>0</td>\n",
       "      <td>1.372923</td>\n",
       "    </tr>\n",
       "  </tbody>\n",
       "</table>\n",
       "</div>"
      ],
      "text/plain": [
       "      Corpo   DistMM21   InFor Ticker  Trend    VolRel\n",
       "0 -0.614458   1.272863  2.7038   SRCE      0  0.666306\n",
       "1 -0.265781   4.704651  3.6401   CARO      0  0.832600\n",
       "2 -0.452381  -1.359361  2.6322   VNET      0  0.827672\n",
       "3 -0.773649 -31.978758  1.1413   TWOU      0  1.372923"
      ]
     },
     "execution_count": 101,
     "metadata": {},
     "output_type": "execute_result"
    }
   ],
   "source": [
    "from methods import *\n",
    "\n",
    "calcs = []\n",
    "for symbol in [\"SRCE\", \"CARO\", \"VNET\", \"TWOU\"]:\n",
    "    quotes = quotes_to_dataframe(symbol)\n",
    "    all_calcs = {\n",
    "        \"Ticker\" : LastValue(quotes).ticker,\n",
    "        \"VolRel\" : LastValue(VolRel(quotes)),\n",
    "        \"InFor\" : round(LastValue(IndFor(quotes)), 4),\n",
    "        \"Trend\" : round(LastValue(Trend(quotes)), 4),\n",
    "        \"Corpo\" : LastValue(Corpo(quotes)),\n",
    "        \n",
    "        #\"RompTF\" : RompTF(quotes),\n",
    "        \"DistMM21\" : LastValue(DistMM21(quotes)),\n",
    "        #\"Mov_Romp\" : LastValue(DistMM21(quotes)),\n",
    "    }\n",
    "    print(\"done\")\n",
    "    calcs.append(all_calcs)\n",
    "\n",
    "pd.DataFrame(calcs)"
   ]
  },
  {
   "cell_type": "code",
   "execution_count": 100,
   "metadata": {},
   "outputs": [
    {
     "ename": "NameError",
     "evalue": "name 'caro' is not defined",
     "output_type": "error",
     "traceback": [
      "\u001b[1;31m---------------------------------------------------------------------------\u001b[0m",
      "\u001b[1;31mNameError\u001b[0m                                 Traceback (most recent call last)",
      "\u001b[1;32m<ipython-input-100-9d998b3445cc>\u001b[0m in \u001b[0;36m<module>\u001b[1;34m()\u001b[0m\n\u001b[0;32m      1\u001b[0m \u001b[1;32mfrom\u001b[0m \u001b[0mmethods\u001b[0m \u001b[1;32mimport\u001b[0m \u001b[1;33m*\u001b[0m\u001b[1;33m\u001b[0m\u001b[0m\n\u001b[1;32m----> 2\u001b[1;33m \u001b[0mquotes\u001b[0m\u001b[1;33m=\u001b[0m \u001b[0mcaro\u001b[0m\u001b[1;33m\u001b[0m\u001b[0m\n\u001b[0m\u001b[0;32m      3\u001b[0m \u001b[0mH\u001b[0m \u001b[1;33m=\u001b[0m \u001b[0mquotes\u001b[0m\u001b[1;33m.\u001b[0m\u001b[0mhigh\u001b[0m\u001b[1;33m\u001b[0m\u001b[0m\n\u001b[0;32m      4\u001b[0m \u001b[0mL\u001b[0m \u001b[1;33m=\u001b[0m \u001b[0mquotes\u001b[0m\u001b[1;33m.\u001b[0m\u001b[0mlow\u001b[0m\u001b[1;33m\u001b[0m\u001b[0m\n\u001b[0;32m      5\u001b[0m \u001b[0mC\u001b[0m \u001b[1;33m=\u001b[0m \u001b[0mquotes\u001b[0m\u001b[1;33m.\u001b[0m\u001b[0mclose\u001b[0m\u001b[1;33m\u001b[0m\u001b[0m\n",
      "\u001b[1;31mNameError\u001b[0m: name 'caro' is not defined"
     ]
    }
   ],
   "source": [
    "from methods import *\n",
    "quotes= caro\n",
    "H = quotes.high\n",
    "L = quotes.low\n",
    "C = quotes.close\n",
    "\n",
    "###### METASTOCK LINE ###### \n",
    "# change:=MVH();\n",
    "############################\n",
    "change = Lastvalue(mvh(quotes))\n",
    "\n",
    "###### METASTOCK LINE ###### \n",
    "# diffHi:=H-Ref(H,-1);\n",
    "############################\n",
    "diffHi = H - REF(H, -1)\n",
    "\n",
    "###### METASTOCK LINE ###### \n",
    "# diffLo:=Ref(L,-1)-L;\n",
    "############################\n",
    "diffLo = REF(L, -1) - L\n",
    "\n",
    "###### METASTOCK LINE ###### \n",
    "# x:=If(diffLo>diffHi,L,H);\n",
    "############################\n",
    "x = np.where(diffLo > diffHi, L, H)\n",
    "###### METASTOCK LINE ###### \n",
    "# zz:= Zig(x,change,%);\n",
    "############################\n",
    "zz = ZIG(x, change)\n",
    "###### METASTOCK LINE ###### \n",
    "# V1:= If(Cross(C,Peak(1 ,zz ,1 )),1,If(Cross(Trough(1,zz,1),C),-1,0));\n",
    "############################\n",
    "\n",
    "def GetSeriesWithLessIndex(seriesA, seriesB):\n",
    "    if (seriesA.index[-1] < seriesB.index[-1]):\n",
    "        last_index = seriesA.index[-1]\n",
    "        last_index_1 = seriesA.index[-2]\n",
    "        return last_index, last_index_1\n",
    "    elif (seriesA.index[-1] > seriesB.index[-1]):\n",
    "        last_index = seriesB.index[-1]\n",
    "        last_index_1 = seriesB.index[-2]\n",
    "        return last_index, last_index_1\n",
    "        \n",
    "def CROSS(seriesA, seriesB, return_df = False):\n",
    "    last_index, last_index_1 = GetSeriesWithLessIndex(seriesA, seriesB)\n",
    "    #return (seriesA[seriesA.index == last_index]) == (seriesB[seriesB.index == last_index])\n",
    "    validation = seriesA[last_index] > seriesB[last_index] and seriesA[last_index_1] < seriesB[last_index_1]\n",
    "    return 1 if validation else 0\n",
    "\n",
    "\n",
    "def CROSSARR(seriesA, seriesB):\n",
    "    return np.where( (seriesA>seriesB) & (series.shift(1)< seriesB.shift(1)), 1,0 )\n",
    "    \n",
    "\n",
    "def IF(condition, seriesA, seriesB):\n",
    "    return np.where(condition, seriesA, seriesB)\n",
    "\n",
    "\n",
    "peak = PEAK(zz, 1, change, return_df=True)\n",
    "\n",
    "\n",
    "V1 = CROSS(C, PEAK(zz, 1, 1, return_df=True))\n",
    "V1\n",
    "#V1=  IF( CROSS(C, PEAK(1 ,zz ,1 )), 1, 0);\n",
    "#print(peak.index[-2])\n"
   ]
  },
  {
   "cell_type": "code",
   "execution_count": 2,
   "metadata": {},
   "outputs": [
    {
     "ename": "NameError",
     "evalue": "name 'C' is not defined",
     "output_type": "error",
     "traceback": [
      "\u001b[1;31m---------------------------------------------------------------------------\u001b[0m",
      "\u001b[1;31mNameError\u001b[0m                                 Traceback (most recent call last)",
      "\u001b[1;32m<ipython-input-2-da7ba8421b27>\u001b[0m in \u001b[0;36m<module>\u001b[1;34m()\u001b[0m\n\u001b[1;32m----> 1\u001b[1;33m \u001b[0mseries\u001b[0m \u001b[1;33m=\u001b[0m \u001b[0mC\u001b[0m\u001b[1;33m\u001b[0m\u001b[0m\n\u001b[0m\u001b[0;32m      2\u001b[0m \u001b[0mperc_change\u001b[0m \u001b[1;33m=\u001b[0m \u001b[1;36m1\u001b[0m\u001b[1;33m\u001b[0m\u001b[0m\n\u001b[0;32m      3\u001b[0m \u001b[0mreturn_df\u001b[0m \u001b[1;33m=\u001b[0m \u001b[1;32mTrue\u001b[0m\u001b[1;33m\u001b[0m\u001b[0m\n\u001b[0;32m      4\u001b[0m \u001b[0mn_peak\u001b[0m \u001b[1;33m=\u001b[0m \u001b[1;36m1\u001b[0m\u001b[1;33m\u001b[0m\u001b[0m\n\u001b[0;32m      5\u001b[0m \u001b[0mzig_df\u001b[0m \u001b[1;33m=\u001b[0m \u001b[0mZIG\u001b[0m\u001b[1;33m(\u001b[0m\u001b[0mseries\u001b[0m\u001b[1;33m,\u001b[0m \u001b[0mperc_change\u001b[0m\u001b[1;33m,\u001b[0m \u001b[0mreturn_df\u001b[0m\u001b[1;33m=\u001b[0m\u001b[1;32mTrue\u001b[0m\u001b[1;33m)\u001b[0m\u001b[1;33m\u001b[0m\u001b[0m\n",
      "\u001b[1;31mNameError\u001b[0m: name 'C' is not defined"
     ]
    }
   ],
   "source": [
    "series = C\n",
    "perc_change = 1\n",
    "return_df = True\n",
    "n_peak = 1\n",
    "zig_df = ZIG(series, perc_change, return_df=True)\n",
    "filtered_df = zig_df[zig_df.direction == 1]\n",
    "v = None\n",
    "peak_index = zig_df[zig_df.direction == 1].index[(n_peak*-1)]\n",
    "start_index = zig_df.index[0]\n",
    "print(peak_index)\n",
    "print(start_index)\n",
    "\n",
    "zig_df[start_index:peak_index].tail(10)\n",
    "\n"
   ]
  }
 ],
 "metadata": {
  "kernelspec": {
   "display_name": "Django Shell-Plus",
   "language": "python",
   "name": "django_extensions"
  },
  "language_info": {
   "codemirror_mode": {
    "name": "ipython",
    "version": 3
   },
   "file_extension": ".py",
   "mimetype": "text/x-python",
   "name": "python",
   "nbconvert_exporter": "python",
   "pygments_lexer": "ipython3",
   "version": "3.6.5"
  }
 },
 "nbformat": 4,
 "nbformat_minor": 2
}
