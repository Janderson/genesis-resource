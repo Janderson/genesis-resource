{
 "cells": [
  {
   "cell_type": "code",
   "execution_count": 1,
   "metadata": {},
   "outputs": [],
   "source": [
    "%load_ext autoreload\n",
    "%autoreload 2\n",
    "%matplotlib inline\n",
    "\n",
    "import plotly.plotly as py\n",
    "import plotly.graph_objs as go\n",
    "\n",
    "import pandas as pd\n",
    "from pandas import DataFrame, Series\n",
    "\n",
    "\n"
   ]
  },
  {
   "cell_type": "code",
   "execution_count": 2,
   "metadata": {},
   "outputs": [
    {
     "data": {
      "text/html": [
       "<script>requirejs.config({paths: { 'plotly': ['https://cdn.plot.ly/plotly-latest.min']},});if(!window.Plotly) {{require(['plotly'],function(plotly) {window.Plotly=plotly;});}}</script>"
      ],
      "text/vnd.plotly.v1+html": [
       "<script>requirejs.config({paths: { 'plotly': ['https://cdn.plot.ly/plotly-latest.min']},});if(!window.Plotly) {{require(['plotly'],function(plotly) {window.Plotly=plotly;});}}</script>"
      ]
     },
     "metadata": {},
     "output_type": "display_data"
    },
    {
     "data": {
      "application/vnd.plotly.v1+json": {
       "data": [
        {
         "type": "scatter",
         "uid": "26ac5b3e-91c5-11e8-994c-e03f49e5184b",
         "x": [
          1,
          2,
          3,
          4
         ],
         "y": [
          4,
          3,
          2,
          1
         ]
        }
       ],
       "layout": {
        "title": "hello world"
       }
      },
      "text/html": [
       "<div id=\"b755087c-3e5e-4e20-bb4d-6188c414d852\" style=\"height: 525px; width: 100%;\" class=\"plotly-graph-div\"></div><script type=\"text/javascript\">require([\"plotly\"], function(Plotly) { window.PLOTLYENV=window.PLOTLYENV || {};window.PLOTLYENV.BASE_URL=\"https://plot.ly\";Plotly.newPlot(\"b755087c-3e5e-4e20-bb4d-6188c414d852\", [{\"x\": [1, 2, 3, 4], \"y\": [4, 3, 2, 1], \"type\": \"scatter\", \"uid\": \"26af4128-91c5-11e8-80f1-e03f49e5184b\"}], {\"title\": \"hello world\"}, {\"showLink\": true, \"linkText\": \"Export to plot.ly\"})});</script>"
      ],
      "text/vnd.plotly.v1+html": [
       "<div id=\"b755087c-3e5e-4e20-bb4d-6188c414d852\" style=\"height: 525px; width: 100%;\" class=\"plotly-graph-div\"></div><script type=\"text/javascript\">require([\"plotly\"], function(Plotly) { window.PLOTLYENV=window.PLOTLYENV || {};window.PLOTLYENV.BASE_URL=\"https://plot.ly\";Plotly.newPlot(\"b755087c-3e5e-4e20-bb4d-6188c414d852\", [{\"x\": [1, 2, 3, 4], \"y\": [4, 3, 2, 1], \"type\": \"scatter\", \"uid\": \"26af4128-91c5-11e8-80f1-e03f49e5184b\"}], {\"title\": \"hello world\"}, {\"showLink\": true, \"linkText\": \"Export to plot.ly\"})});</script>"
      ]
     },
     "metadata": {},
     "output_type": "display_data"
    }
   ],
   "source": [
    "import plotly\n",
    "import plotly.graph_objs as go\n",
    "plotly.offline.init_notebook_mode(connected=True)\n",
    "\n",
    "plotly.offline.iplot({\n",
    "    \"data\": [go.Scatter(x=[1, 2, 3, 4], y=[4, 3, 2, 1])],\n",
    "    \"layout\": go.Layout(title=\"hello world\")\n",
    "})"
   ]
  },
  {
   "cell_type": "code",
   "execution_count": 3,
   "metadata": {},
   "outputs": [
    {
     "ename": "NameError",
     "evalue": "name 'trace1' is not defined",
     "output_type": "error",
     "traceback": [
      "\u001b[1;31m---------------------------------------------------------------------------\u001b[0m",
      "\u001b[1;31mNameError\u001b[0m                                 Traceback (most recent call last)",
      "\u001b[1;32m<ipython-input-3-b9f442f672c9>\u001b[0m in \u001b[0;36m<module>\u001b[1;34m()\u001b[0m\n\u001b[1;32m----> 1\u001b[1;33m \u001b[0mdata\u001b[0m \u001b[1;33m=\u001b[0m \u001b[0mgo\u001b[0m\u001b[1;33m.\u001b[0m\u001b[0mData\u001b[0m\u001b[1;33m(\u001b[0m\u001b[1;33m[\u001b[0m\u001b[0mtrace1\u001b[0m\u001b[1;33m,\u001b[0m \u001b[0mtrace2\u001b[0m\u001b[1;33m,\u001b[0m \u001b[0mtrace3\u001b[0m\u001b[1;33m,\u001b[0m \u001b[0mtrace4\u001b[0m\u001b[1;33m,\u001b[0m \u001b[0mtrace5\u001b[0m\u001b[1;33m]\u001b[0m\u001b[1;33m)\u001b[0m\u001b[1;33m\u001b[0m\u001b[0m\n\u001b[0m\u001b[0;32m      2\u001b[0m \u001b[1;33m\u001b[0m\u001b[0m\n\u001b[0;32m      3\u001b[0m \u001b[1;31m# style all the traces\u001b[0m\u001b[1;33m\u001b[0m\u001b[1;33m\u001b[0m\u001b[0m\n\u001b[0;32m      4\u001b[0m \u001b[1;32mfor\u001b[0m \u001b[0mk\u001b[0m \u001b[1;32min\u001b[0m \u001b[0mrange\u001b[0m\u001b[1;33m(\u001b[0m\u001b[0mlen\u001b[0m\u001b[1;33m(\u001b[0m\u001b[0mdata\u001b[0m\u001b[1;33m)\u001b[0m\u001b[1;33m)\u001b[0m\u001b[1;33m:\u001b[0m\u001b[1;33m\u001b[0m\u001b[0m\n\u001b[0;32m      5\u001b[0m     data[k].update(\n",
      "\u001b[1;31mNameError\u001b[0m: name 'trace1' is not defined"
     ]
    }
   ],
   "source": [
    "data = go.Data([trace1, trace2, trace3, trace4, trace5])\n",
    "\n",
    "# style all the traces\n",
    "for k in range(len(data)):\n",
    "    data[k].update(\n",
    "        {\n",
    "            \"type\": \"scatter\",\n",
    "            \"hoverinfo\": \"name+x+text\",\n",
    "            \"line\": {\"width\": 0.5}, \n",
    "            \"marker\": {\"size\": 8},\n",
    "            \"mode\": \"lines+markers\",\n",
    "            \"showlegend\": False\n",
    "        }\n",
    "    )\n",
    "\n",
    "layout = {\n",
    "  \"annotations\": [\n",
    "    {\n",
    "      \"x\": \"2013-06-01\", \n",
    "      \"y\": 0, \n",
    "      \"arrowcolor\": \"rgba(63, 81, 181, 0.2)\", \n",
    "      \"arrowsize\": 0.3, \n",
    "      \"ax\": 0, \n",
    "      \"ay\": 30, \n",
    "      \"text\": \"state1\", \n",
    "      \"xref\": \"x\", \n",
    "      \"yanchor\": \"bottom\", \n",
    "      \"yref\": \"y\"\n",
    "    }, \n",
    "    {\n",
    "      \"x\": \"2014-09-13\", \n",
    "      \"y\": 0, \n",
    "      \"arrowcolor\": \"rgba(76, 175, 80, 0.1)\", \n",
    "      \"arrowsize\": 0.3, \n",
    "      \"ax\": 0,\n",
    "      \"ay\": 30,\n",
    "      \"text\": \"state2\",\n",
    "      \"xref\": \"x\", \n",
    "      \"yanchor\": \"bottom\", \n",
    "      \"yref\": \"y\"\n",
    "    }\n",
    "  ], \n",
    "  \"dragmode\": \"zoom\", \n",
    "  \"hovermode\": \"x\", \n",
    "  \"legend\": {\"traceorder\": \"reversed\"}, \n",
    "  \"margin\": {\n",
    "    \"t\": 100, \n",
    "    \"b\": 100\n",
    "  }, \n",
    "  \"shapes\": [\n",
    "    {\n",
    "      \"fillcolor\": \"rgba(63, 81, 181, 0.2)\", \n",
    "      \"line\": {\"width\": 0}, \n",
    "      \"type\": \"rect\", \n",
    "      \"x0\": \"2013-01-15\", \n",
    "      \"x1\": \"2013-10-17\", \n",
    "      \"xref\": \"x\", \n",
    "      \"y0\": 0, \n",
    "      \"y1\": 0.95, \n",
    "      \"yref\": \"paper\"\n",
    "    }, \n",
    "    {\n",
    "      \"fillcolor\": \"rgba(76, 175, 80, 0.1)\", \n",
    "      \"line\": {\"width\": 0}, \n",
    "      \"type\": \"rect\", \n",
    "      \"x0\": \"2013-10-22\", \n",
    "      \"x1\": \"2015-08-05\", \n",
    "      \"xref\": \"x\", \n",
    "      \"y0\": 0, \n",
    "      \"y1\": 0.95, \n",
    "      \"yref\": \"paper\"\n",
    "    }\n",
    "  ], \n",
    "  \"xaxis\": {\n",
    "    \"autorange\": True, \n",
    "    \"range\": [\"2012-10-31 18:36:37.3129\", \"2016-05-10 05:23:22.6871\"], \n",
    "    \"rangeslider\": {\n",
    "      \"autorange\": True, \n",
    "      \"range\": [\"2012-10-31 18:36:37.3129\", \"2016-05-10 05:23:22.6871\"]\n",
    "    }, \n",
    "    \"type\": \"date\"\n",
    "  }, \n",
    "  \"yaxis\": {\n",
    "    \"anchor\": \"x\", \n",
    "    \"autorange\": True, \n",
    "    \"domain\": [0, 0.2], \n",
    "    \"linecolor\": \"#673ab7\", \n",
    "    \"mirror\": True, \n",
    "    \"range\": [-60.0858369099, 28.4406294707], \n",
    "    \"showline\": True, \n",
    "    \"side\": \"right\", \n",
    "    \"tickfont\": {\"color\": \"#673ab7\"}, \n",
    "    \"tickmode\": \"auto\", \n",
    "    \"ticks\": \"\", \n",
    "    \"titlefont\": {\"color\": \"#673ab7\"}, \n",
    "    \"type\": \"linear\", \n",
    "    \"zeroline\": False\n",
    "  }, \n",
    "  \"yaxis2\": {\n",
    "    \"anchor\": \"x\", \n",
    "    \"autorange\": True, \n",
    "    \"domain\": [0.2, 0.4], \n",
    "    \"linecolor\": \"#E91E63\", \n",
    "    \"mirror\": True, \n",
    "    \"range\": [29.3787777032, 100.621222297], \n",
    "    \"showline\": True, \n",
    "    \"side\": \"right\", \n",
    "    \"tickfont\": {\"color\": \"#E91E63\"}, \n",
    "    \"tickmode\": \"auto\", \n",
    "    \"ticks\": \"\", \n",
    "    \"titlefont\": {\"color\": \"#E91E63\"}, \n",
    "    \"type\": \"linear\", \n",
    "    \"zeroline\": False\n",
    "  }, \n",
    "  \"yaxis3\": {\n",
    "    \"anchor\": \"x\", \n",
    "    \"autorange\": True, \n",
    "    \"domain\": [0.4, 0.6], \n",
    "    \"linecolor\": \"#795548\", \n",
    "    \"mirror\": True, \n",
    "    \"range\": [-3.73690396239, 22.2369039624], \n",
    "    \"showline\": True, \n",
    "    \"side\": \"right\", \n",
    "    \"tickfont\": {\"color\": \"#795548\"}, \n",
    "    \"tickmode\": \"auto\", \n",
    "    \"ticks\": \"\", \n",
    "    \"title\": \"mg/L\", \n",
    "    \"titlefont\": {\"color\": \"#795548\"}, \n",
    "    \"type\": \"linear\", \n",
    "    \"zeroline\": False\n",
    "  }, \n",
    "  \"yaxis4\": {\n",
    "    \"anchor\": \"x\", \n",
    "    \"autorange\": True, \n",
    "    \"domain\": [0.6, 0.8], \n",
    "    \"linecolor\": \"#607d8b\", \n",
    "    \"mirror\": True, \n",
    "    \"range\": [6.63368032236, 8.26631967764], \n",
    "    \"showline\": True, \n",
    "    \"side\": \"right\", \n",
    "    \"tickfont\": {\"color\": \"#607d8b\"}, \n",
    "    \"tickmode\": \"auto\", \n",
    "    \"ticks\": \"\", \n",
    "    \"title\": \"mmol/L\", \n",
    "    \"titlefont\": {\"color\": \"#607d8b\"}, \n",
    "    \"type\": \"linear\", \n",
    "    \"zeroline\": False\n",
    "  }, \n",
    "  \"yaxis5\": {\n",
    "    \"anchor\": \"x\", \n",
    "    \"autorange\": True, \n",
    "    \"domain\": [0.8, 1], \n",
    "    \"linecolor\": \"#2196F3\", \n",
    "    \"mirror\": True, \n",
    "    \"range\": [-685.336803224, 3718.33680322], \n",
    "    \"showline\": True, \n",
    "    \"side\": \"right\", \n",
    "    \"tickfont\": {\"color\": \"#2196F3\"}, \n",
    "    \"tickmode\": \"auto\",\n",
    "    \"ticks\": \"\", \n",
    "    \"title\": \"mg/Kg\", \n",
    "    \"titlefont\": {\"color\": \"#2196F3\"}, \n",
    "    \"type\": \"linear\", \n",
    "    \"zeroline\": False\n",
    "  }\n",
    "}\n",
    "fig = go.Figure(data=data, layout=layout)\n",
    "py.iplot(fig)"
   ]
  }
 ],
 "metadata": {
  "kernelspec": {
   "display_name": "Python 3",
   "language": "python",
   "name": "python3"
  },
  "language_info": {
   "codemirror_mode": {
    "name": "ipython",
    "version": 3
   },
   "file_extension": ".py",
   "mimetype": "text/x-python",
   "name": "python",
   "nbconvert_exporter": "python",
   "pygments_lexer": "ipython3",
   "version": "3.6.5"
  }
 },
 "nbformat": 4,
 "nbformat_minor": 2
}
