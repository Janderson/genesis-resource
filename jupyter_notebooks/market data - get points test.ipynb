{
 "cells": [
  {
   "cell_type": "code",
   "execution_count": 1,
   "metadata": {},
   "outputs": [],
   "source": [
    "import pandas as pd\n",
    "from pandas import DataFrame, Series\n",
    "%load_ext autoreload\n",
    "\n",
    "%autoreload 2\n",
    "%matplotlib inline"
   ]
  },
  {
   "cell_type": "code",
   "execution_count": 3,
   "metadata": {},
   "outputs": [],
   "source": [
    "import sys\n",
    "sys.path.append(\"../../\")\n",
    "from genesis.entities.Symbol import Symbol\n",
    "from genesis.entities.CollectionSymbol import CollectionSymbol\n"
   ]
  },
  {
   "cell_type": "code",
   "execution_count": 4,
   "metadata": {},
   "outputs": [],
   "source": [
    "collection = CollectionSymbol()"
   ]
  },
  {
   "cell_type": "code",
   "execution_count": 5,
   "metadata": {},
   "outputs": [
    {
     "data": {
      "text/html": [
       "<div>\n",
       "<style scoped>\n",
       "    .dataframe tbody tr th:only-of-type {\n",
       "        vertical-align: middle;\n",
       "    }\n",
       "\n",
       "    .dataframe tbody tr th {\n",
       "        vertical-align: top;\n",
       "    }\n",
       "\n",
       "    .dataframe thead th {\n",
       "        text-align: right;\n",
       "    }\n",
       "</style>\n",
       "<table border=\"1\" class=\"dataframe\">\n",
       "  <thead>\n",
       "    <tr style=\"text-align: right;\">\n",
       "      <th></th>\n",
       "      <th>exchange</th>\n",
       "      <th>name</th>\n",
       "      <th>ticker</th>\n",
       "    </tr>\n",
       "  </thead>\n",
       "  <tbody>\n",
       "    <tr>\n",
       "      <th>0</th>\n",
       "      <td>NYSE</td>\n",
       "      <td>SUPER PETRO</td>\n",
       "      <td>PETR4</td>\n",
       "    </tr>\n",
       "    <tr>\n",
       "      <th>1</th>\n",
       "      <td>NYSE</td>\n",
       "      <td>SUPER PETRO</td>\n",
       "      <td>BBAS3</td>\n",
       "    </tr>\n",
       "  </tbody>\n",
       "</table>\n",
       "</div>"
      ],
      "text/plain": [
       "  exchange         name ticker\n",
       "0     NYSE  SUPER PETRO  PETR4\n",
       "1     NYSE  SUPER PETRO  BBAS3"
      ]
     },
     "execution_count": 5,
     "metadata": {},
     "output_type": "execute_result"
    }
   ],
   "source": [
    "df = DataFrame(\n",
    "    [{\n",
    "        \"ticker\": \"PETR4\", \n",
    "        \"name\": \"SUPER PETRO\", \n",
    "        \"exchange\": \"NYSE\"\n",
    "    },{\n",
    "        \"ticker\": \"BBAS3\", \n",
    "        \"name\": \"SUPER PETRO\", \n",
    "        \"exchange\": \"NYSE\"\n",
    "    },\n",
    "    ], \n",
    "    index=[0, 1]\n",
    ")\n",
    "\n",
    "collection.add_from_df(df)\n",
    "\n",
    "\n",
    "\n"
   ]
  },
  {
   "cell_type": "code",
   "execution_count": 73,
   "metadata": {},
   "outputs": [
    {
     "data": {
      "text/plain": [
       "<matplotlib.axes._subplots.AxesSubplot at 0x218df602ac8>"
      ]
     },
     "execution_count": 73,
     "metadata": {},
     "output_type": "execute_result"
    },
    {
     "data": {
      "image/png": "[encoded data removed]",
      "text/plain": [
       "<Figure size 432x288 with 1 Axes>"
      ]
     },
     "metadata": {},
     "output_type": "display_data"
    }
   ],
   "source": [
    "import redis\n",
    "redisConn = redis.StrictRedis(host=\"localhost\", port=6379, db=0)\n",
    "\n",
    "df = pd.read_msgpack(redisConn.get(\"AAPL\"))\n",
    "\n",
    "df.close.plot()"
   ]
  },
  {
   "cell_type": "code",
   "execution_count": 29,
   "metadata": {},
   "outputs": [],
   "source": [
    "from genesis.market_data.market_data import YCharts\n",
    "from genesis.conf import settings \n",
    "import logging\n",
    "import traceback\n",
    "\n",
    "logger = logging.getLogger(__name__)\n",
    "\n",
    "mk_data = YCharts(settings.YCHART_API, logger)\n"
   ]
  },
  {
   "cell_type": "code",
   "execution_count": 49,
   "metadata": {},
   "outputs": [
    {
     "name": "stdout",
     "output_type": "stream",
     "text": [
      "['A', 'AA', 'AAC', 'AAN', 'AAP', 'AAT', 'AAV', 'AB', 'ABB', 'ABBV', 'ABC', 'ABEV', 'ABG', 'ABM', 'ABR', 'ABT', 'ABX', 'AC', 'ACC', 'ACCO', 'ACH', 'ACM', 'ACN', 'ACP', 'ACRE', 'ACV', 'ADC', 'ADIN', 'ADM', 'ADNT', 'ADS', 'ADSW', 'ADT', 'ADX', 'AEE', 'AEG', 'AEL', 'AEM', 'AEO', 'AEP', 'AER', 'AES', 'AET', 'AFB', 'AFG', 'AFI', 'AFL', 'AFT', 'AG', 'AGC', 'AGCO', 'AGD', 'AGI', 'AGM', 'AGMA', 'AGN', 'AGO', 'AGR', 'AGRO', 'AGS', 'AGX', 'AHC', 'AHH', 'AHL', 'AHT', 'AI', 'AIF', 'AIG', 'AIN', 'AIR', 'AIT', 'AIV', 'AIZ', 'AJG', 'AJRD', 'AJX', 'AKO.A', 'AKO.B', 'AKP', 'AKR', 'AKS', 'AL', 'ALB', 'ALE', 'ALEX', 'ALG', 'ALK', 'ALL', 'ALLE', 'ALLY', 'ALSN', 'ALV', 'ALX', 'AM', 'AMBR', 'AMC', 'AME', 'AMG', 'AMGP', 'AMH']\n",
      "['A', 'AA', 'AAC', 'AAN', 'AAP', 'AAT', 'AAV', 'AB', 'ABB', 'ABBV', 'ABC', 'ABEV', 'ABG', 'ABM', 'ABR', 'ABT', 'ABX', 'AC', 'ACC', 'ACCO', 'ACH', 'ACM', 'ACN', 'ACP', 'ACRE', 'ACV', 'ADC', 'ADIN', 'ADM', 'ADNT', 'ADS', 'ADSW', 'ADT', 'ADX', 'AEE', 'AEG', 'AEL', 'AEM', 'AEO', 'AEP', 'AER', 'AES', 'AET', 'AFB', 'AFG', 'AFI', 'AFL', 'AFT', 'AG', 'AGC', 'AGCO', 'AGD', 'AGI', 'AGM', 'AGMA', 'AGN', 'AGO', 'AGR', 'AGRO', 'AGS', 'AGX', 'AHC', 'AHH', 'AHL', 'AHT', 'AI', 'AIF', 'AIG', 'AIN', 'AIR', 'AIT', 'AIV', 'AIZ', 'AJG', 'AJRD', 'AJX', 'AKO.A', 'AKO.B', 'AKP', 'AKR', 'AKS', 'AL', 'ALB', 'ALE', 'ALEX', 'ALG', 'ALK', 'ALL', 'ALLE', 'ALLY', 'ALSN', 'ALV', 'ALX', 'AM', 'AMBR', 'AMC', 'AME', 'AMG', 'AMGP', 'AMH']\n",
      "['AMID', 'AMN', 'AMOV', 'AMP', 'AMRC', 'AMRX', 'AMT', 'AMX', 'AN', 'ANDV', 'ANDX', 'ANET', 'ANF', 'ANFI', 'ANH', 'ANTM', 'ANW', 'AOD', 'AOI', 'AON', 'AOS', 'AP', 'APA', 'APAM', 'APB', 'APC', 'APD', 'APF', 'APH', 'APLE', 'APO', 'APRN', 'APTS', 'APTV', 'APU', 'APY', 'AQ', 'AQN', 'AQUA', 'AR', 'ARA', 'ARC', 'ARCH', 'ARCO', 'ARD', 'ARDC', 'ARE', 'ARES', 'ARGO', 'ARI', 'ARL', 'ARLO', 'ARMK', 'ARNC', 'AROC', 'ARR', 'ARW', 'ASA', 'ASB', 'ASC', 'ASG', 'ASGN', 'ASH', 'ASIX', 'ASPN', 'ASR', 'ASX', 'AT', 'ATEN', 'ATGE', 'ATH', 'ATHM', 'ATI', 'ATKR', 'ATO', 'ATR', 'ATTO', 'ATU', 'ATUS', 'ATV', 'AU', 'AUO', 'AUY', 'AVA', 'AVAL', 'AVB', 'AVD', 'AVH', 'AVK', 'AVLR', 'AVNS', 'AVP', 'AVX', 'AVY', 'AVYA', 'AWF', 'AWI', 'AWK', 'AWP', 'AWR']\n",
      "['AXE', 'AXL', 'AXP', 'AXR', 'AXS', 'AXTA', 'AYI', 'AYR', 'AYX', 'AZN', 'AZO', 'AZRE', 'AZUL', 'AZZ', 'B', 'BA', 'BABA', 'BAC', 'BAF', 'BAH', 'BAK', 'BAM', 'BANC', 'BAP', 'BAS', 'BAX', 'BB', 'BBD', 'BBDO', 'BBF', 'BBK', 'BBL', 'BBN', 'BBT', 'BBU', 'BBVA', 'BBW', 'BBX', 'BBY', 'BC', 'BCC', 'BCE', 'BCEI', 'BCH', 'BCO', 'BCRH', 'BCS', 'BCX', 'BDC', 'BDJ', 'BDN', 'BDX', 'BE', 'BEDU', 'BEL', 'BEN', 'BEP', 'BERY', 'BF.A', 'BF.B', 'BFAM', 'BFK', 'BFO', 'BFR', 'BFS', 'BFZ', 'BG', 'BGB', 'BGG', 'BGH', 'BGIO', 'BGR', 'BGS', 'BGT', 'BGX', 'BGY', 'BH', 'BH.A', 'BHC', 'BHE', 'BHGE', 'BHK', 'BHLB', 'BHP', 'BHR', 'BHVN', 'BID', 'BIF', 'BIG', 'BIO', 'BIO.B', 'BIP', 'BIT', 'BITA', 'BJ', 'BJZ', 'BK', 'BKD', 'BKE', 'BKH']\n",
      "['BKI', 'BKK', 'BKN', 'BKS', 'BKT', 'BKU', 'BLD', 'BLH', 'BLK', 'BLL', 'BLW', 'BLX', 'BMA', 'BME', 'BMI', 'BMO', 'BMS', 'BMY', 'BNED', 'BNS', 'BNY', 'BOE', 'BOH', 'BOOT', 'BORN', 'BOX', 'BP', 'BPI', 'BPK', 'BPL', 'BPMP', 'BPT', 'BQH', 'BR', 'BRC', 'BRFS', 'BRK.A', 'BRK.B', 'BRO', 'BRS', 'BRSS', 'BRT', 'BRX', 'BSAC', 'BSBR', 'BSD', 'BSE', 'BSIG', 'BSL', 'BSM', 'BSMX', 'BST', 'BSTI', 'BSX', 'BT', 'BTA', 'BTE', 'BTI', 'BTO', 'BTT', 'BTU', 'BTZ', 'BUD', 'BUI', 'BURL', 'BV', 'BVN', 'BW', 'BWA', 'BWG', 'BWXT', 'BX', 'BXC', 'BXE', 'BXG', 'BXMT', 'BXMX', 'BXP', 'BXS', 'BY', 'BYD', 'BYM', 'BZH', 'C', 'CAAP', 'CABO', 'CACI', 'CADE', 'CAE', 'CAF', 'CAG', 'CAH', 'CAI', 'CAJ', 'CAL', 'CALX', 'CANG', 'CAPL', 'CARS', 'CAT']\n",
      "['CATO', 'CB', 'CBA', 'CBB', 'CBD', 'CBH', 'CBK', 'CBL', 'CBM', 'CBPX', 'CBRE', 'CBS', 'CBS.A', 'CBT', 'CBU', 'CBZ', 'CC', 'CCE', 'CCI', 'CCJ', 'CCK', 'CCL', 'CCM', 'CCO', 'CCR', 'CCS', 'CCT', 'CCU', 'CDAY', 'CDE', 'CDR', 'CE', 'CEA', 'CEE', 'CEIX', 'CEL', 'CELP', 'CEM', 'CEN', 'CEO', 'CEPU', 'CEQP', 'CF', 'CFG', 'CFR', 'CFX', 'CGA', 'CGC', 'CGG', 'CHA', 'CHCT', 'CHD', 'CHE', 'CHGG', 'CHH', 'CHK', 'CHKR', 'CHL', 'CHMI', 'CHN', 'CHRA', 'CHS', 'CHSP', 'CHT', 'CHU', 'CI', 'CIA', 'CIB', 'CIC', 'CIEN', 'CIF', 'CIG', 'CIG.C', 'CII', 'CIM', 'CINR', 'CIO', 'CIR', 'CISN', 'CIT', 'CIVI', 'CJ', 'CKH', 'CL', 'CLB', 'CLD', 'CLDR', 'CLDT', 'CLF', 'CLGX', 'CLH', 'CLI', 'CLNC', 'CLNY', 'CLPR', 'CLR', 'CLS', 'CLW', 'CLX', 'CM']\n",
      "['CMA', 'CMC', 'CMCM', 'CMD', 'CMG', 'CMI', 'CMO', 'CMP', 'CMRE', 'CMS', 'CMU', 'CNA', 'CNC', 'CNDT', 'CNHI', 'CNI', 'CNK', 'CNNE', 'CNO', 'CNP', 'CNQ', 'CNS', 'CNX', 'CNXM', 'CO', 'CODI', 'COE', 'COF', 'COG', 'COL', 'COLD', 'COO', 'COP', 'COR', 'CORR', 'COT', 'COTV', 'COTY', 'CP', 'CPA', 'CPAC', 'CPB', 'CPE', 'CPF', 'CPG', 'CPK', 'CPL', 'CPLG', 'CPN', 'CPS', 'CPT', 'CR', 'CRC', 'CRCM', 'CRD.A', 'CRD.B', 'CRH', 'CRI', 'CRK', 'CRL', 'CRM', 'CRR', 'CRS', 'CRT', 'CRY', 'CS', 'CSL', 'CSLT', 'CSS', 'CSTM', 'CSU', 'CSV', 'CTB', 'CTL', 'CTLT', 'CTR', 'CTS', 'CTT', 'CUB', 'CUBE', 'CUBI', 'CUK', 'CULP', 'CURO', 'CUZ', 'CVA', 'CVE', 'CVEO', 'CVG', 'CVI', 'CVIA', 'CVNA', 'CVRR', 'CVS', 'CVX', 'CW', 'CWH', 'CWT', 'CX', 'CXE']\n",
      "['CXH', 'CXO', 'CXP', 'CXW', 'CYD', 'CYH', 'CYS', 'CZZ', 'D', 'DAC', 'DAL', 'DAN', 'DAR', 'DATA', 'DAVA', 'DB', 'DBD', 'DBL', 'DCF', 'DCI', 'DCO', 'DCP', 'DCT', 'DDD', 'DDE', 'DDF', 'DDR', 'DDS', 'DE', 'DEA', 'DECK', 'DEI', 'DEO', 'DESP', 'DEX', 'DF', 'DFIN', 'DFP', 'DFS', 'DG', 'DGX', 'DHCP', 'DHF', 'DHI', 'DHR', 'DHT', 'DHX', 'DIAX', 'DIN', 'DIS', 'DK', 'DKL', 'DKS', 'DL', 'DLB', 'DLNG', 'DLPH', 'DLR', 'DLX', 'DM', 'DMB', 'DMO', 'DNB', 'DNI', 'DNOW', 'DNP', 'DNR', 'DO', 'DOC', 'DOOR', 'DOV', 'DPG', 'DPLO', 'DPZ', 'DQ', 'DRD', 'DRE', 'DRH', 'DRI', 'DRQ', 'DS', 'DSE', 'DSL', 'DSM', 'DSU', 'DSW', 'DSX', 'DTE', 'DTF', 'DUC', 'DUK', 'DVA', 'DVD', 'DVMT', 'DVN', 'DWDP', 'DX', 'DXC', 'DY', 'E']\n",
      "['EAF', 'EARN', 'EAT', 'EBF', 'EBR', 'EBR.B', 'EBS', 'EC', 'ECA', 'ECC', 'ECL', 'ECOM', 'ECR', 'ECT', 'ED', 'EDD', 'EDF', 'EDI', 'EDN', 'EDR', 'EDU', 'EE', 'EEA', 'EEP', 'EEQ', 'EEX', 'EFC', 'EFF', 'EFL', 'EFR', 'EFT', 'EFX', 'EGF', 'EGHT', 'EGIF', 'EGL', 'EGN', 'EGO', 'EGP', 'EGY', 'EHC', 'EHI', 'EHIC', 'EHT', 'EIG', 'EIX', 'EL', 'ELF', 'ELLI', 'ELP', 'ELS', 'ELVT', 'ELY', 'EMD', 'EME', 'EMES', 'EMF', 'EMN', 'EMO', 'EMR', 'ENB', 'ENBL', 'ENIA', 'ENIC', 'ENLC', 'ENLK', 'ENR', 'ENS', 'ENV', 'ENVA', 'ENZ', 'EOCC', 'EOD', 'EOG', 'EOI', 'EOS', 'EOT', 'EPAM', 'EPC', 'EPD', 'EPE', 'EPR', 'EPRT', 'EQC', 'EQGP', 'EQH', 'EQM', 'EQNR', 'EQR', 'EQS', 'EQT', 'ERA', 'ERF', 'ERJ', 'EROS', 'ES', 'ESE', 'ESL', 'ESNT', 'ESRT']\n",
      "['ESS', 'ESTE', 'ESV', 'ETB', 'ETE', 'ETG', 'ETH', 'ETJ', 'ETM', 'ETN', 'ETO', 'ETP', 'ETR', 'ETV', 'ETW', 'ETX', 'ETY', 'EURN', 'EV', 'EVA', 'EVC', 'EVF', 'EVG', 'EVH', 'EVHC', 'EVN', 'EVR', 'EVRG', 'EVRI', 'EVT', 'EVTC', 'EW', 'EXC', 'EXD', 'EXG', 'EXK', 'EXP', 'EXPR', 'EXR', 'EXTN', 'F', 'FAF', 'FAM', 'FBC', 'FBHS', 'FBK', 'FBM', 'FBP', 'FBR', 'FC', 'FCAU', 'FCB', 'FCE.A', 'FCF', 'FCFS', 'FCI', 'FCN', 'FCPT', 'FCT', 'FCX', 'FDC', 'FDEU', 'FDP', 'FDS', 'FDX', 'FE', 'FEDU', 'FEI', 'FELP', 'FENG', 'FEO', 'FET', 'FF', 'FFA', 'FFC', 'FFG', 'FFTY', 'FG', 'FGB', 'FGP', 'FHN', 'FI', 'FICO', 'FIF', 'FII', 'FIS', 'FIT', 'FIV', 'FIX', 'FL', 'FLC', 'FLO', 'FLOW', 'FLR', 'FLS', 'FLT', 'FLY', 'FMC', 'FMN', 'FMO']\n",
      "['FMS', 'FMX', 'FMY', 'FN', 'FNB', 'FND', 'FNF', 'FNV', 'FOE', 'FOF', 'FOR', 'FPAC', 'FPF', 'FPH', 'FPI', 'FPL', 'FR', 'FRA', 'FRAC', 'FRC', 'FRO', 'FRT', 'FSB', 'FSD', 'FSIC', 'FSM', 'FSS', 'FT', 'FTAI', 'FTI', 'FTK', 'FTS', 'FTSI', 'FTV', 'FUL', 'FUN', 'G', 'GAB', 'GAM', 'GATX', 'GBAB', 'GBL', 'GBX', 'GCAP', 'GCI', 'GCO', 'GCP', 'GCV', 'GD', 'GDDY', 'GDI', 'GDL', 'GDO', 'GDOT', 'GDV', 'GE', 'GEF', 'GEF.B', 'GEL', 'GEN', 'GEO', 'GER', 'GES', 'GF', 'GFA', 'GFF', 'GFI', 'GFY', 'GG', 'GGB', 'GGG', 'GGM', 'GGP', 'GGT', 'GGZ', 'GHC', 'GHG', 'GHL', 'GHM', 'GHY', 'GIB', 'GIG', 'GIL', 'GIM', 'GIS', 'GKOS', 'GLOB', 'GLOG', 'GLOP', 'GLP', 'GLT', 'GLW', 'GM', 'GME', 'GMED', 'GMRE', 'GMS', 'GMZ', 'GNC', 'GNE']\n",
      "['GNK', 'GNL', 'GNRC', 'GNT', 'GNW', 'GOF', 'GOL', 'GOLF', 'GOOS', 'GPC', 'GPI', 'GPK', 'GPM', 'GPMT', 'GPN', 'GPRK', 'GPS', 'GPT', 'GPX', 'GRA', 'GRAM', 'GRC', 'GRP.U', 'GRUB', 'GRX', 'GS', 'GSBD', 'GSH', 'GSK', 'GSL', 'GTES', 'GTN', 'GTN.A', 'GTS', 'GTT', 'GTY', 'GUT', 'GVA', 'GWB', 'GWR', 'GWRE', 'GWW', 'GZT', 'H', 'HAE', 'HAL', 'HASI', 'HBB', 'HBI', 'HBM', 'HCA', 'HCC', 'HCFT', 'HCHC', 'HCI', 'HCLP', 'HCP', 'HD', 'HDB', 'HE', 'HEI', 'HEI.A', 'HEP', 'HEQ', 'HES', 'HESM', 'HF', 'HFC', 'HFRO', 'HGT', 'HGV', 'HHC', 'HHS', 'HI', 'HIE', 'HIFR', 'HIG', 'HII', 'HIL', 'HIO', 'HIVE', 'HIW', 'HIX', 'HK', 'HL', 'HLF', 'HLI', 'HLT', 'HLX', 'HMC', 'HMI', 'HMLP', 'HMN', 'HMY', 'HNI', 'HNP', 'HOG', 'HOME', 'HON', 'HOS']\n"
     ]
    },
    {
     "name": "stdout",
     "output_type": "stream",
     "text": [
      "['HOV', 'HP', 'HPE', 'HPF', 'HPI', 'HPP', 'HPQ', 'HPR', 'HPS', 'HQH', 'HQL', 'HR', 'HRB', 'HRC', 'HRI', 'HRL', 'HRS', 'HRTG', 'HSBC', 'HSC', 'HST', 'HSY', 'HT', 'HTA', 'HTD', 'HTGC', 'HTH', 'HTY', 'HTZ', 'HUBB', 'HUBS', 'HUD', 'HUM', 'HUN', 'HUYA', 'HVT', 'HVT.A', 'HXL', 'HY', 'HYB', 'HYI', 'HYT', 'HZN', 'HZO', 'I', 'IAE', 'IAG', 'IBA', 'IBM', 'IBN', 'IBP', 'ICD', 'ICE', 'ICL', 'IDA', 'IDE', 'IDT', 'IEX', 'IFF', 'IFN', 'IGA', 'IGD', 'IGI', 'IGR', 'IGT', 'IHC', 'IHD', 'IHG', 'IHIT', 'IHTA', 'IID', 'IIF', 'IIM', 'IIPR', 'IMAX', 'INB', 'INF', 'INFY', 'ING', 'INGR', 'INN', 'INSI', 'INSP', 'INST', 'INSW', 'INT', 'INVH', 'INXN', 'IO', 'IP', 'IPG', 'IPHI', 'IPI', 'IPOA', 'IQI', 'IQV', 'IR', 'IRET', 'IRL', 'IRM']\n",
      "['IRR', 'IRS', 'IRT', 'ISD', 'IT', 'ITCB', 'ITG', 'ITGR', 'ITT', 'ITUB', 'ITW', 'IVC', 'IVH', 'IVR', 'IVZ', 'IX', 'JAG', 'JAX', 'JBGS', 'JBL', 'JBT', 'JCAP', 'JCE', 'JCI', 'JCO', 'JCP', 'JDD', 'JE', 'JEC', 'JEF', 'JELD', 'JEMD', 'JEQ', 'JFR', 'JGH', 'JHA', 'JHB', 'JHD', 'JHG', 'JHI', 'JHS', 'JHX', 'JHY', 'JILL', 'JKS', 'JLL', 'JLS', 'JMEI', 'JMF', 'JMLP', 'JMM', 'JMP', 'JMT', 'JNJ', 'JNPR', 'JOE', 'JOF', 'JONE', 'JP', 'JPC', 'JPI', 'JPM', 'JPS', 'JPT', 'JQC', 'JRI', 'JRO', 'JRS', 'JSD', 'JT', 'JTA', 'JTD', 'JW.A', 'JW.B', 'JWN', 'K', 'KAI', 'KAMN', 'KAR', 'KB', 'KBH', 'KBR', 'KDMN', 'KDP', 'KED', 'KEG', 'KEM', 'KEN', 'KEP', 'KEX', 'KEY', 'KEYS', 'KF', 'KFS', 'KFY', 'KGC', 'KIM', 'KIO', 'KKR', 'KL']\n",
      "['KMB', 'KMF', 'KMG', 'KMI', 'KMM', 'KMPR', 'KMT', 'KMX', 'KN', 'KNL', 'KNOP', 'KNX', 'KO', 'KODK', 'KOF', 'KOP', 'KORS', 'KOS', 'KR', 'KRA', 'KRC', 'KREF', 'KRG', 'KRO', 'KRP', 'KS', 'KSM', 'KSS', 'KST', 'KSU', 'KT', 'KTF', 'KW', 'KWR', 'KYE', 'KYN', 'L', 'LAC', 'LAD', 'LADR', 'LAZ', 'LB', 'LBRT', 'LC', 'LCI', 'LCII', 'LCM', 'LDF', 'LDL', 'LDOS', 'LDP', 'LEA', 'LEE', 'LEG', 'LEJU', 'LEN', 'LEN.B', 'LEO', 'LFC', 'LFGR', 'LGC', 'LGF.A', 'LGF.B', 'LGI', 'LH', 'LHC', 'LHO', 'LII', 'LITB', 'LKM', 'LKSD', 'LL', 'LLL', 'LLY', 'LM', 'LMT', 'LN', 'LNC', 'LND', 'LNN', 'LNT', 'LOMA', 'LOR', 'LOW', 'LPG', 'LPI', 'LPL', 'LPT', 'LPX', 'LRN', 'LSI', 'LTC', 'LTM', 'LTN', 'LUB', 'LUV', 'LVS', 'LW', 'LXFR', 'LXFT']\n",
      "['LXP', 'LXU', 'LYB', 'LYG', 'LYV', 'LZB', 'M', 'MA', 'MAA', 'MAC', 'MAIN', 'MAN', 'MANU', 'MAS', 'MATX', 'MAV', 'MAXR', 'MBI', 'MBT', 'MC', 'MCA', 'MCB', 'MCC', 'MCD', 'MCI', 'MCK', 'MCN', 'MCO', 'MCR', 'MCRN', 'MCS', 'MCY', 'MD', 'MDC', 'MDLY', 'MDP', 'MDR', 'MDT', 'MDU', 'MED', 'MEI', 'MEN', 'MET', 'MFA', 'MFC', 'MFCB', 'MFD', 'MFG', 'MFGP', 'MFL', 'MFM', 'MFT', 'MFV', 'MG', 'MGA', 'MGF', 'MGM', 'MGP', 'MGU', 'MHD', 'MHF', 'MHI', 'MHK', 'MHN', 'MHO', 'MIC', 'MIE', 'MIN', 'MITT', 'MIXT', 'MIY', 'MKC', 'MKC.V', 'MKL', 'MLI', 'MLM', 'MLP', 'MLR', 'MMC', 'MMD', 'MMI', 'MMM', 'MMP', 'MMS', 'MMT', 'MMU', 'MN', 'MNE', 'MNK', 'MNP', 'MNR', 'MO', 'MOD', 'MODN', 'MOG.A', 'MOG.B', 'MOH', 'MOS', 'MOSC', 'MOV']\n",
      "['MPA', 'MPC', 'MPLX', 'MPO', 'MPV', 'MPW', 'MPX', 'MQT', 'MQY', 'MRC', 'MRK', 'MRO', 'MRT', 'MS', 'MSA', 'MSB', 'MSCI', 'MSD', 'MSF', 'MSG', 'MSGN', 'MSI', 'MSL', 'MSM', 'MSP', 'MT', 'MTB', 'MTD', 'MTDR', 'MTG', 'MTH', 'MTL', 'MTLPR', 'MTN', 'MTOR', 'MTR', 'MTRN', 'MTT', 'MTW', 'MTX', 'MTZ', 'MUA', 'MUC', 'MUE', 'MUFG', 'MUH', 'MUI', 'MUJ', 'MUR', 'MUS', 'MUSA', 'MUX', 'MVC', 'MVO', 'MVT', 'MWA', 'MX', 'MXE', 'MXF', 'MXL', 'MYC', 'MYD', 'MYE', 'MYF', 'MYI', 'MYJ', 'MYN', 'MYOV', 'MZF', 'NAC', 'NAD', 'NAN', 'NAO', 'NAP', 'NAT', 'NAV', 'NAZ', 'NBB', 'NBD', 'NBHC', 'NBL', 'NBLX', 'NBR', 'NC', 'NCA', 'NCB', 'NCI', 'NCLH', 'NCR', 'NCS', 'NCV', 'NCZ', 'NDP', 'NDRO', 'NE', 'NEA', 'NEE', 'NEM', 'NEP', 'NETS']\n",
      "['NEU', 'NEV', 'NEW', 'NEWM', 'NEWR', 'NEXA', 'NFG', 'NFJ', 'NFX', 'NGG', 'NGL', 'NGS', 'NGVC', 'NGVT', 'NHA', 'NHF', 'NHI', 'NI', 'NID', 'NIE', 'NIM', 'NINE', 'NIQ', 'NJR', 'NJV', 'NKE', 'NKG', 'NKX', 'NL', 'NLS', 'NLSN', 'NLY', 'NM', 'NMFC', 'NMI', 'NMM', 'NMR', 'NMS', 'NMT', 'NMY', 'NMZ', 'NNA', 'NNC', 'NNI', 'NNN', 'NNY', 'NOA', 'NOAH', 'NOC', 'NOK', 'NOM', 'NOMD', 'NOV', 'NOW', 'NP', 'NPK', 'NPN', 'NPO', 'NPTN', 'NPV', 'NQP', 'NR', 'NRE', 'NRG', 'NRK', 'NRP', 'NRT', 'NRZ', 'NS', 'NSA', 'NSC', 'NSH', 'NSL', 'NSM', 'NSP', 'NTB', 'NTC', 'NTG', 'NTP', 'NTR', 'NTX', 'NTZ', 'NUE', 'NUM', 'NUO', 'NUS', 'NUV', 'NUW', 'NVG', 'NVGS', 'NVO', 'NVR', 'NVRO', 'NVS', 'NVT', 'NVTA', 'NWE', 'NWHM', 'NWL', 'NWN']\n",
      "['NWY', 'NX', 'NXC', 'NXJ', 'NXN', 'NXP', 'NXQ', 'NXR', 'NXRT', 'NYCB', 'NYLD', 'NYLD.A', 'NYRT', 'NYT', 'NYV', 'NZF', 'O', 'OAK', 'OAS', 'OBE', 'OC', 'OCN', 'ODC', 'OEC', 'OFC', 'OFG', 'OGE', 'OGS', 'OHI', 'OI', 'OIA', 'OIBR.C', 'OII', 'OIS', 'OKE', 'OLN', 'OLP', 'OMAD', 'OMC', 'OMF', 'OMI', 'OMN', 'OMP', 'ONDK', 'ONE', 'OOMA', 'OPP', 'OPY', 'OR', 'ORA', 'ORAN', 'ORC', 'ORCL', 'ORI', 'ORN', 'OSB', 'OSG', 'OSK', 'OUT', 'OXM', 'OXY', 'OZM', 'P', 'PAA', 'PAC', 'PAG', 'PAGP', 'PAGS', 'PAH', 'PAI', 'PAM', 'PANW', 'PAR', 'PARR', 'PAY', 'PAYC', 'PB', 'PBA', 'PBF', 'PBFX', 'PBH', 'PBI', 'PBR', 'PBR.A', 'PBT', 'PCF', 'PCG', 'PCI', 'PCK', 'PCM', 'PCN', 'PCQ', 'PDI', 'PDM', 'PDS', 'PDT', 'PE', 'PEB', 'PEG', 'PEI']\n",
      "['PEN', 'PEO', 'PER', 'PES', 'PF', 'PFD', 'PFE', 'PFGC', 'PFL', 'PFN', 'PFO', 'PFS', 'PFSI', 'PG', 'PGP', 'PGR', 'PGRE', 'PGTI', 'PGZ', 'PH', 'PHD', 'PHG', 'PHH', 'PHI', 'PHK', 'PHM', 'PHT', 'PHX', 'PII', 'PIM', 'PIR', 'PJC', 'PJT', 'PK', 'PKD', 'PKE', 'PKG', 'PKI', 'PKO', 'PKX', 'PLD', 'PLNT', 'PLOW', 'PLT', 'PM', 'PMF', 'PML', 'PMM', 'PMO', 'PMT', 'PMX', 'PNC', 'PNF', 'PNI', 'PNM', 'PNR', 'PNW', 'POL', 'POR', 'POST', 'PPDF', 'PPG', 'PPL', 'PPR', 'PPT', 'PQG', 'PRA', 'PRGO', 'PRI', 'PRLB', 'PRO', 'PRSP', 'PRT', 'PRTY', 'PRU', 'PSA', 'PSB', 'PSF', 'PSO', 'PSTG', 'PSX', 'PSXP', 'PTR', 'PTY', 'PUK', 'PUMP', 'PVG', 'PVH', 'PVTL', 'PWR', 'PX', 'PXD', 'PYN', 'PZC', 'PZN', 'QCP', 'QD', 'QEP', 'QES', 'QGEN']\n",
      "['QHC', 'QSR', 'QTM', 'QTS', 'QTWO', 'QUAD', 'QUOT', 'R', 'RA', 'RACE', 'RAD', 'RBA', 'RBC', 'RBS', 'RCI', 'RCL', 'RCS', 'RCUS', 'RDC', 'RDN', 'RDS.A', 'RDS.B', 'RDY', 'RE', 'REG', 'RELX', 'REN', 'RENN', 'RENX', 'RES', 'RESI', 'REV', 'REVG', 'REX', 'REXR', 'RF', 'RFI', 'RFP', 'RGA', 'RGR', 'RGS', 'RGT', 'RH', 'RHI', 'RHP', 'RHT', 'RIG', 'RIO', 'RIV', 'RJF', 'RL', 'RLGY', 'RLH', 'RLI', 'RLJ', 'RM', 'RMAX', 'RMD', 'RMP', 'RMT', 'RNG', 'RNGR', 'RNP', 'RNR', 'ROG', 'ROK', 'ROL', 'ROP', 'ROYT', 'RPAI', 'RPM', 'RPT', 'RQI', 'RRC', 'RRD', 'RRTS', 'RS', 'RSG', 'RST', 'RTEC', 'RTN', 'RUBI', 'RVI', 'RVT', 'RWGE', 'RWT', 'RXN', 'RY', 'RYAM', 'RYB', 'RYI', 'RYN', 'S', 'SA', 'SAFE', 'SAH', 'SAIC', 'SAIL', 'SALT', 'SAM']\n"
     ]
    },
    {
     "name": "stderr",
     "output_type": "stream",
     "text": [
      "C:\\Anaconda3\\lib\\site-packages\\pandas\\core\\frame.py:6201: FutureWarning: Sorting because non-concatenation axis is not aligned. A future version\n",
      "of pandas will change to not sort by default.\n",
      "\n",
      "To accept the future behavior, pass 'sort=True'.\n",
      "\n",
      "To retain the current behavior and silence the warning, pass sort=False\n",
      "\n",
      "  sort=sort)\n"
     ]
    },
    {
     "name": "stdout",
     "output_type": "stream",
     "text": [
      "['SAN', 'SAP', 'SAR', 'SAVE', 'SB', 'SBGL', 'SBH', 'SBI', 'SBOW', 'SBR', 'SBS', 'SC', 'SCCO', 'SCD', 'SCG', 'SCHW', 'SCI', 'SCL', 'SCM', 'SCS', 'SCX', 'SD', 'SDLP', 'SDR', 'SDRL', 'SDT', 'SE', 'SEAS', 'SEE', 'SEM', 'SEMG', 'SEND', 'SEP', 'SERV', 'SF', 'SFE', 'SFL', 'SFS', 'SFUN', 'SGU', 'SHAK', 'SHG', 'SHI', 'SHLX', 'SHO', 'SHOP', 'SHW', 'SID', 'SIG', 'SITE', 'SIX', 'SJI', 'SJM', 'SJR', 'SJT', 'SJW', 'SKM', 'SKT', 'SKX', 'SKY', 'SLB', 'SLCA', 'SLD', 'SLF', 'SLG', 'SM', 'SMAR', 'SMFG', 'SMG', 'SMHI', 'SMI', 'SMLP', 'SMM', 'SMP', 'SMTA', 'SN', 'SNA', 'SNAP', 'SNDR', 'SNE', 'SNN', 'SNP', 'SNR', 'SNV', 'SNX', 'SNY', 'SO', 'SOGO', 'SOI', 'SOL', 'SON', 'SOR', 'SPA', 'SPB', 'SPE', 'SPG', 'SPGI', 'SPH', 'SPLP', 'SPN']\n",
      "['SPOT', 'SPR', 'SPXC', 'SPXX', 'SQ', 'SQM', 'SQNS', 'SR', 'SRC', 'SRE', 'SRF', 'SRG', 'SRI', 'SRLP', 'SRT', 'SRV', 'SSD', 'SSI', 'SSL', 'SSTK', 'SSW', 'ST', 'STAG', 'STAR', 'STC', 'STE', 'STG', 'STI', 'STK', 'STL', 'STM', 'STN', 'STNG', 'STON', 'STOR', 'STT', 'STWD', 'STZ', 'STZ.B', 'SU', 'SUI', 'SUM', 'SUN', 'SUP', 'SUPV', 'SVU', 'SWCH', 'SWK', 'SWM', 'SWN', 'SWX', 'SWZ', 'SXC', 'SXCP', 'SXE', 'SXI', 'SXT', 'SYF', 'SYK', 'SYX', 'SYY', 'SZC', 'T', 'TAC', 'TAHO', 'TAL', 'TALO', 'TAP', 'TAP.A', 'TARO', 'TBI', 'TCAP', 'TCF', 'TCI', 'TCO', 'TCP', 'TCS', 'TD', 'TDC', 'TDF', 'TDG', 'TDOC', 'TDS', 'TDW', 'TDY', 'TECK', 'TEF', 'TEI', 'TEL', 'TEN', 'TEO', 'TER', 'TEVA', 'TEX', 'TFX', 'TG', 'TGE', 'TGH', 'TGI', 'TGNA']\n",
      "['TGP', 'TGS', 'TGT', 'THC', 'THG', 'THO', 'THQ', 'THR', 'THS', 'THW', 'TI', 'TI.A', 'TIER', 'TIF', 'TISI', 'TJX', 'TK', 'TKC', 'TKR', 'TLI', 'TLK', 'TLP', 'TLRA', 'TLRD', 'TLYS', 'TM', 'TMHC', 'TMK', 'TMO', 'TMST', 'TNC', 'TNET', 'TNK', 'TNP', 'TOL', 'TOO', 'TOT', 'TOWR', 'TPB', 'TPC', 'TPGE', 'TPGH', 'TPH', 'TPL', 'TPR', 'TPRE', 'TPVG', 'TPX', 'TPZ', 'TR', 'TRC', 'TRCO', 'TREC', 'TREX', 'TRGP', 'TRI', 'TRK', 'TRN', 'TRNO', 'TROX', 'TRP', 'TRQ', 'TRTN', 'TRTX', 'TRU', 'TRV', 'TS', 'TSE', 'TSI', 'TSLF', 'TSLX', 'TSM', 'TSN', 'TSQ', 'TSS', 'TSU', 'TTC', 'TTI', 'TTM', 'TTP', 'TU', 'TUP', 'TV', 'TVPT', 'TWI', 'TWLO', 'TWN', 'TWO', 'TWTR', 'TX', 'TXT', 'TY', 'TYG', 'TYL', 'UA', 'UAA', 'UAL', 'UAN', 'UBA', 'UBP']\n",
      "['UBS', 'UDR', 'UE', 'UFI', 'UFS', 'UGI', 'UGP', 'UHS', 'UHT', 'UIS', 'UL', 'UMC', 'UMH', 'UN', 'UNF', 'UNH', 'UNM', 'UNP', 'UNT', 'UNVR', 'UPS', 'URI', 'USA', 'USAC', 'USB', 'USDP', 'USFD', 'USG', 'USM', 'USNA', 'USPH', 'USX', 'UTF', 'UTI', 'UTL', 'UTX', 'UVE', 'UVV', 'V', 'VAC', 'VALE', 'VAR', 'VBF', 'VCRA', 'VCV', 'VEC', 'VEDL', 'VEEV', 'VER', 'VET', 'VFC', 'VG', 'VGI', 'VGM', 'VGR', 'VHI', 'VICI', 'VIPS', 'VIV', 'VJET', 'VKQ', 'VLO', 'VLP', 'VLRS', 'VLT', 'VLY', 'VMC', 'VMI', 'VMO', 'VMW', 'VNCE', 'VNE', 'VNO', 'VNTR', 'VOC', 'VOYA', 'VPG', 'VPV', 'VRS', 'VRTV', 'VSH', 'VSI', 'VSLR', 'VSM', 'VST', 'VSTO', 'VTA', 'VTN', 'VTR', 'VVC', 'VVI', 'VVR', 'VVV', 'VZ', 'W', 'WAAS', 'WAB', 'WAGE', 'WAIR', 'WAL']\n",
      "['WAT', 'WBAI', 'WBC', 'WBK', 'WBS', 'WBT', 'WCC', 'WCG', 'WCN', 'WD', 'WDR', 'WEA', 'WEC', 'WELL', 'WES', 'WEX', 'WF', 'WFC', 'WFT', 'WGO', 'WGP', 'WH', 'WHD', 'WHG', 'WHR', 'WIA', 'WIT', 'WIW', 'WK', 'WLH', 'WLK', 'WLKP', 'WLL', 'WM', 'WMB', 'WMC', 'WMK', 'WMLP', 'WMS', 'WMT', 'WNC', 'WNS', 'WOR', 'WOW', 'WP', 'WPC', 'WPG', 'WPM', 'WPP', 'WPX', 'WPZ', 'WRB', 'WRD', 'WRE', 'WRI', 'WRK', 'WSM', 'WSO', 'WSO.B', 'WSR', 'WST', 'WTI', 'WTM', 'WTR', 'WTS', 'WTTR', 'WTW', 'WU', 'WUBA', 'WWE', 'WWW', 'WY', 'WYND', 'X', 'XAN', 'XEC', 'XFLT', 'XHR', 'XIN', 'XL', 'XOM', 'XON', 'XOXO', 'XPO', 'XRF', 'XRM', 'XRX', 'XYL', 'Y', 'YELP', 'YEXT', 'YPF', 'YRD', 'YUM', 'YUMC', 'ZAYO', 'ZBH', 'ZEN', 'ZF', 'ZNH']\n",
      "['AABA', 'AAL', 'AAME', 'AAOI', 'AAON', 'AAPL', 'AAWW', 'AAXJ', 'AAXN', 'ABAC', 'ABAX', 'ABCB', 'ABCD', 'ABDC', 'ABEO', 'ABIL', 'ABIO', 'ABMD', 'ABTX', 'ABUS', 'ACAD', 'ACBI', 'ACER', 'ACET', 'ACGL', 'ACHC', 'ACHN', 'ACHV', 'ACIA', 'ACIU', 'ACIW', 'ACLS', 'ACMR', 'ACNB', 'ACOR', 'ACRS', 'ACRX', 'ACSF', 'ACST', 'ACT', 'ACTG', 'ACWI', 'ACWX', 'ACXM', 'ADAP', 'ADBE', 'ADES', 'ADI', 'ADMA', 'ADMP', 'ADMS', 'ADOM', 'ADP', 'ADRA', 'ADRD', 'ADRE', 'ADRO', 'ADRU', 'ADSK', 'ADTN', 'ADUS', 'ADVM', 'ADXS', 'AEGN', 'AEHR', 'AEIS', 'AEMD', 'AERI', 'AETI', 'AEY', 'AEZS', 'AFH', 'AFIN', 'AFMD', 'AFSI', 'AGEN', 'AGFS', 'AGIO', 'AGLE', 'AGMH', 'AGNC', 'AGND', 'AGRX', 'AGTC', 'AGYS', 'AGZD', 'AHPA', 'AHPI', 'AIA', 'AIHS', 'AIMC', 'AIMT', 'AINV', 'AIPT', 'AIQ', 'AIRG', 'AIRR', 'AIRT', 'AKAM', 'AKAO']\n",
      "['AABA', 'AAL', 'AAME', 'AAOI', 'AAON', 'AAPL', 'AAWW', 'AAXJ', 'AAXN', 'ABAC', 'ABAX', 'ABCB', 'ABCD', 'ABDC', 'ABEO', 'ABIL', 'ABIO', 'ABMD', 'ABTX', 'ABUS', 'ACAD', 'ACBI', 'ACER', 'ACET', 'ACGL', 'ACHC', 'ACHN', 'ACHV', 'ACIA', 'ACIU', 'ACIW', 'ACLS', 'ACMR', 'ACNB', 'ACOR', 'ACRS', 'ACRX', 'ACSF', 'ACST', 'ACT', 'ACTG', 'ACWI', 'ACWX', 'ACXM', 'ADAP', 'ADBE', 'ADES', 'ADI', 'ADMA', 'ADMP', 'ADMS', 'ADOM', 'ADP', 'ADRA', 'ADRD', 'ADRE', 'ADRO', 'ADRU', 'ADSK', 'ADTN', 'ADUS', 'ADVM', 'ADXS', 'AEGN', 'AEHR', 'AEIS', 'AEMD', 'AERI', 'AETI', 'AEY', 'AEZS', 'AFH', 'AFIN', 'AFMD', 'AFSI', 'AGEN', 'AGFS', 'AGIO', 'AGLE', 'AGMH', 'AGNC', 'AGND', 'AGRX', 'AGTC', 'AGYS', 'AGZD', 'AHPA', 'AHPI', 'AIA', 'AIHS', 'AIMC', 'AIMT', 'AINV', 'AIPT', 'AIQ', 'AIRG', 'AIRR', 'AIRT', 'AKAM', 'AKAO']\n",
      "['AKBA', 'AKCA', 'AKER', 'AKRX', 'AKTS', 'AKTX', 'ALBO', 'ALCO', 'ALDR', 'ALDX', 'ALGN', 'ALGT', 'ALIM', 'ALJJ', 'ALKS', 'ALLK', 'ALLT', 'ALNA', 'ALNY', 'ALOT', 'ALPN', 'ALQA', 'ALRM', 'ALRN', 'ALSK', 'ALT', 'ALTR', 'ALTY', 'ALXN', 'ALZH', 'AMAG', 'AMAT', 'AMBA', 'AMBC', 'AMCA', 'AMCN', 'AMCX', 'AMD', 'AMDA', 'AMED', 'AMEH', 'AMGN', 'AMKR', 'AMMA', 'AMNB', 'AMOT', 'AMPH', 'AMR', 'AMRB', 'AMRH', 'AMRK', 'AMRN', 'AMRS', 'AMSC', 'AMSF', 'AMSWA', 'AMTD', 'AMTX', 'AMWD', 'AMZN', 'ANAB', 'ANAT', 'ANCB', 'ANCX', 'ANDE', 'ANGI', 'ANGO', 'ANIK', 'ANIP', 'ANSS', 'ANY', 'AOBC', 'AOSL', 'APDN', 'APEI', 'APEN', 'APLS', 'APOG', 'APOP', 'APPF', 'APPN', 'APPS', 'APRI', 'APTI', 'APTO', 'APTX', 'APVO', 'APWC', 'AQB', 'AQMS', 'AQST', 'AQXP', 'ARAY', 'ARCB', 'ARCC', 'ARCI', 'ARCT', 'ARCW', 'ARDM', 'ARDX']\n",
      "['AREX', 'ARGX', 'ARII', 'ARKR', 'ARLP', 'ARLZ', 'ARNA', 'AROW', 'ARPO', 'ARQL', 'ARRS', 'ARRY', 'ARTNA', 'ARTW', 'ARTX', 'ARWR', 'ASCMA', 'ASET', 'ASFI', 'ASLN', 'ASMB', 'ASML', 'ASNA', 'ASND', 'ASNS', 'ASPS', 'ASPU', 'ASRV', 'ASTC', 'ASTE', 'ASUR', 'ASV', 'ASYS', 'ATAC', 'ATAI', 'ATAX', 'ATEC', 'ATHN', 'ATHX', 'ATIS', 'ATLC', 'ATLO', 'ATNI', 'ATNX', 'ATOM', 'ATOS', 'ATRA', 'ATRC', 'ATRI', 'ATRO', 'ATRS', 'ATSG', 'ATTU', 'ATVI', 'ATXI', 'AUBN', 'AUDC', 'AUPH', 'AUTL', 'AUTO', 'AVAV', 'AVDL', 'AVEO', 'AVGO', 'AVGR', 'AVHI', 'AVID', 'AVNW', 'AVRO', 'AVT', 'AVXL', 'AWRE', 'AWSM', 'AXAS', 'AXDX', 'AXGN', 'AXON', 'AXSM', 'AXTI', 'AY', 'AYTU', 'AZPN', 'AZRX', 'BABY', 'BAND', 'BANF', 'BANR', 'BANX', 'BASI', 'BATRA', 'BATRK', 'BBBY', 'BBGI', 'BBH', 'BBOX', 'BBSI', 'BCAC', 'BCBP', 'BCLI', 'BCML']\n",
      "['BCNA', 'BCOM', 'BCOR', 'BCOV', 'BCPC', 'BCRX', 'BCTF', 'BDGE', 'BDSI', 'BEAT', 'BECN', 'BELFA', 'BELFB', 'BFIN', 'BFIT', 'BFRA', 'BFST', 'BGCP', 'BGFV', 'BGNE', 'BHAC', 'BHBK', 'BHF', 'BHTG', 'BIB', 'BICK', 'BIDU', 'BIIB', 'BILI', 'BIOC', 'BIOL', 'BIOS', 'BIS', 'BJRI', 'BKCC', 'BKEP', 'BKNG', 'BKSC', 'BKYI', 'BL', 'BLBD', 'BLCM', 'BLCN', 'BLDP', 'BLDR', 'BLFS', 'BLIN', 'BLKB', 'BLMN', 'BLMT', 'BLNK', 'BLPH', 'BLRX', 'BLUE', 'BMCH', 'BMLP', 'BMRA', 'BMRC', 'BMRN', 'BMTC', 'BNCL', 'BNDX', 'BNFT', 'BNGO', 'BNSO', 'BNTC', 'BOCH', 'BOFI', 'BOJA', 'BOKF', 'BOLD', 'BOMN', 'BOOM', 'BOSC', 'BOTJ', 'BOTZ', 'BOXL', 'BPFH', 'BPMC', 'BPOP', 'BPRN', 'BPTH', 'BPY', 'BRAC', 'BREW', 'BRID', 'BRKL', 'BRKR', 'BRKS', 'BRPA', 'BRQS', 'BSET', 'BSPM', 'BSQR', 'BSRR', 'BSTC', 'BTAI', 'BTEC', 'BURG', 'BUSE']\n",
      "['BVNSC', 'BVSN', 'BVXV', 'BWB', 'BWEN', 'BWFG', 'BWINA', 'BWINB', 'BYFC', 'BYSI', 'BZUN', 'CA', 'CAAS', 'CAC', 'CACC', 'CACG', 'CADC', 'CAKE', 'CALA', 'CALI', 'CALL', 'CALM', 'CAMP', 'CAMT', 'CAPR', 'CAR', 'CARA', 'CARB', 'CARG', 'CARO', 'CART', 'CARV', 'CARZ', 'CASA', 'CASH', 'CASI', 'CASM', 'CASS', 'CASY', 'CATB', 'CATC', 'CATH', 'CATM', 'CATS', 'CATY', 'CBAK', 'CBAN', 'CBAY', 'CBFV', 'CBIO', 'CBLI', 'CBLK', 'CBMG', 'CBOE', 'CBPO', 'CBRL', 'CBSH', 'CBTX', 'CCB', 'CCBG', 'CCCL', 'CCD', 'CCIH', 'CCLP', 'CCMP', 'CCNE', 'CCNI', 'CCOI', 'CCRC', 'CCRN', 'CCXI', 'CDC', 'CDEV', 'CDK', 'CDL', 'CDLX', 'CDMO', 'CDNA', 'CDNS', 'CDTI', 'CDTX', 'CDW', 'CDXC', 'CDXS', 'CDZI', 'CECE', 'CECO', 'CELC', 'CELG', 'CELH', 'CEMI', 'CENT', 'CENTA', 'CENX', 'CERC', 'CERN', 'CERS', 'CETV', 'CETX', 'CEVA']\n"
     ]
    },
    {
     "name": "stdout",
     "output_type": "stream",
     "text": [
      "['CEY', 'CEZ', 'CFA', 'CFBI', 'CFBK', 'CFFI', 'CFFN', 'CFMS', 'CFO', 'CFRX', 'CG', 'CGBD', 'CGEN', 'CGIX', 'CGNX', 'CGO', 'CGVIC', 'CHCI', 'CHCO', 'CHDN', 'CHEF', 'CHEK', 'CHFC', 'CHFN', 'CHFS', 'CHI', 'CHKE', 'CHKP', 'CHMA', 'CHMG', 'CHNR', 'CHRS', 'CHRW', 'CHTR', 'CHUY', 'CHW', 'CHY', 'CIBR', 'CID', 'CIDM', 'CIFS', 'CIGI', 'CIL', 'CINF', 'CIU', 'CIVB', 'CIVEC', 'CIZ', 'CIZN', 'CJJD', 'CKPT', 'CLAR', 'CLBK', 'CLBS', 'CLCT', 'CLDC', 'CLDX', 'CLFD', 'CLGN', 'CLIR', 'CLLS', 'CLMT', 'CLNE', 'CLPS', 'CLRB', 'CLRG', 'CLRO', 'CLSD', 'CLSN', 'CLUB', 'CLVS', 'CLWT', 'CLXT', 'CMCO', 'CMCSA', 'CMCT', 'CME', 'CMFN', 'CMPR', 'CMRX', 'CMSS', 'CMTA', 'CMTL', 'CNAC', 'CNAT', 'CNBKA', 'CNCE', 'CNCR', 'CNET', 'CNFR', 'CNMD', 'CNOB', 'CNSL', 'CNST', 'CNTF', 'CNTY', 'CNXN', 'COBZ', 'COCP', 'CODA']\n",
      "['CODX', 'COHR', 'COHU', 'COKE', 'COLB', 'COLL', 'COLM', 'COMM', 'COMT', 'CONE', 'CONN', 'COOL', 'CORE', 'CORI', 'CORT', 'CORV', 'COST', 'COUP', 'COWN', 'CPAH', 'CPHC', 'CPIX', 'CPLA', 'CPLP', 'CPRT', 'CPRX', 'CPSH', 'CPSI', 'CPSS', 'CPST', 'CPTA', 'CRAI', 'CRAY', 'CRBP', 'CRED', 'CREE', 'CREG', 'CRESY', 'CRIS', 'CRMT', 'CRNT', 'CRNX', 'CRON', 'CROX', 'CRSP', 'CRTO', 'CRUS', 'CRUSC', 'CRVL', 'CRVS', 'CRWS', 'CRZO', 'CSA', 'CSB', 'CSBR', 'CSCO', 'CSF', 'CSFL', 'CSGP', 'CSGS', 'CSII', 'CSIQ', 'CSJ', 'CSML', 'CSOD', 'CSPI', 'CSQ', 'CSSE', 'CSTE', 'CSTR', 'CSWC', 'CSWI', 'CSX', 'CTAS', 'CTBI', 'CTG', 'CTHR', 'CTIB', 'CTIC', 'CTMX', 'CTRE', 'CTRL', 'CTRN', 'CTRP', 'CTRV', 'CTSH', 'CTSO', 'CTWS', 'CTXR', 'CTXS', 'CUBA', 'CUE', 'CUI', 'CUR', 'CUTR', 'CVBF', 'CVCO', 'CVCY', 'CVGI', 'CVGW']\n",
      "['CVLT', 'CVLY', 'CVON', 'CVTI', 'CVV', 'CWAY', 'CWBC', 'CWBR', 'CWCO', 'CWST', 'CXDC', 'CXRXF', 'CXSE', 'CY', 'CYAD', 'CYAN', 'CYBE', 'CYBR', 'CYCC', 'CYOU', 'CYRN', 'CYRX', 'CYTK', 'CYTR', 'CYTX', 'CZFC', 'CZNC', 'CZR', 'CZWI', 'DAIO', 'DAKT', 'DALI', 'DARE', 'DAVE', 'DAX', 'DBVT', 'DBX', 'DCAR', 'DCIX', 'DCOM', 'DCPH', 'DDBI', 'DDOC', 'DELT', 'DENN', 'DEPO', 'DERM', 'DEST', 'DFBG', 'DFBH', 'DFFN', 'DFNL', 'DFRG', 'DFVL', 'DFVS', 'DGICA', 'DGICB', 'DGII', 'DGLD', 'DGLY', 'DGRE', 'DGRS', 'DGRW', 'DHIL', 'DHXM', 'DINT', 'DIOD', 'DISCA', 'DISCB', 'DISCK', 'DISH', 'DJCO', 'DLBL', 'DLBS', 'DLHC', 'DLPN', 'DLTH', 'DLTR', 'DMLP', 'DMPI', 'DMRC', 'DNBF', 'DNJR', 'DNKN', 'DNLI', 'DOCU', 'DOGZ', 'DOMO', 'DORM', 'DOTA', 'DOVA', 'DOX', 'DRAD', 'DRIO', 'DRIV', 'DRNA', 'DRRX', 'DRYS', 'DSGX', 'DSKE']\n",
      "['DSLV', 'DSPG', 'DSWL', 'DTEA', 'DTRM', 'DTUL', 'DTUS', 'DTYL', 'DTYS', 'DUSA', 'DVAX', 'DVCR', 'DVY', 'DWAQ', 'DWAS', 'DWAT', 'DWCH', 'DWCR', 'DWFI', 'DWIN', 'DWLD', 'DWLV', 'DWPP', 'DWSN', 'DWTR', 'DXCM', 'DXGE', 'DXJS', 'DXLG', 'DXPE', 'DXYN', 'DYNT', 'DYSL', 'DZSI', 'EA', 'EACQ', 'EACQU', 'EAGL', 'EARS', 'EAST', 'EBAY', 'EBIX', 'EBMT', 'EBSB', 'EBTC', 'ECHO', 'ECOL', 'ECOR', 'ECPG', 'ECYT', 'EDAP', 'EDBI', 'EDGE', 'EDGW', 'EDIT', 'EDRY', 'EDUC', 'EEFT', 'EEI', 'EEMA', 'EFAS', 'EFBI', 'EFII', 'EFOI', 'EFSC', 'EGAN', 'EGBN', 'EGC', 'EGLE', 'EGLT', 'EGOV', 'EGRX', 'EHTH', 'EIDX', 'EIGI', 'EIGR', 'EKSO', 'ELGX', 'ELON', 'ELOX', 'ELSE', 'ELTK', 'EMB', 'EMCB', 'EMCF', 'EMCG', 'EMCI', 'EMIF', 'EMITF', 'EMKR', 'EML', 'EMMS', 'EMXC', 'ENDP', 'ENFC', 'ENG', 'ENPH', 'ENSG', 'ENT', 'ENTA']\n",
      "['ENTG', 'ENTX', 'ENZL', 'EOLS', 'EPAY', 'EPIX', 'EPZM', 'EQBK', 'EQFN', 'EQIX', 'EQRR', 'ERI', 'ERIC', 'ERIE', 'ERII', 'ERYP', 'ESBK', 'ESCA', 'ESEA', 'ESES', 'ESG', 'ESGD', 'ESGE', 'ESGG', 'ESGR', 'ESGU', 'ESIO', 'ESLT', 'ESND', 'ESPR', 'ESQ', 'ESRX', 'ESSA', 'ESTA', 'ESTR', 'ESXB', 'ETFC', 'ETSY', 'EUFN', 'EVBG', 'EVER', 'EVFM', 'EVFTC', 'EVGBC', 'EVGN', 'EVK', 'EVLMC', 'EVLO', 'EVLV', 'EVOK', 'EVOL', 'EVOP', 'EVSTC', 'EWBC', 'EWZS', 'EXAS', 'EXEL', 'EXFO', 'EXLS', 'EXPD', 'EXPE', 'EXPI', 'EXPO', 'EXTR', 'EYE', 'EYEG', 'EYEN', 'EYES', 'EYPT', 'EZPW', 'FAAR', 'FAB', 'FAD', 'FALN', 'FAMI', 'FANG', 'FANH', 'FARM', 'FARO', 'FAST', 'FAT', 'FATE', 'FB', 'FBIO', 'FBIZ', 'FBMS', 'FBNC', 'FBNK', 'FBSS', 'FBZ', 'FCA', 'FCAL', 'FCAN', 'FCAP', 'FCBC', 'FCBP', 'FCCO', 'FCCY', 'FCEF', 'FCEL']\n",
      "['FCNCA', 'FCSC', 'FCVT', 'FDBC', 'FDEF', 'FDIV', 'FDT', 'FDTS', 'FDUS', 'FEIM', 'FELE', 'FEM', 'FEMB', 'FEMS', 'FENC', 'FEP', 'FEUZ', 'FEX', 'FEYE', 'FFBC', 'FFBW', 'FFHL', 'FFIC', 'FFIN', 'FFIV', 'FFKT', 'FFNW', 'FFWM', 'FGBI', 'FGEN', 'FGM', 'FHB', 'FHK', 'FIBK', 'FINX', 'FISI', 'FISV', 'FITB', 'FIVE', 'FIVN', 'FIXD', 'FIXX', 'FIZZ', 'FJP', 'FKO', 'FKU', 'FLAT', 'FLDM', 'FLEX', 'FLGT', 'FLIC', 'FLIR', 'FLKS', 'FLL', 'FLN', 'FLNT', 'FLWS', 'FLXN', 'FLXS', 'FMAO', 'FMB', 'FMBH', 'FMBI', 'FMHI', 'FMI', 'FMK', 'FMNB', 'FNCB', 'FNGN', 'FNHC', 'FNJN', 'FNK', 'FNKO', 'FNLC', 'FNSR', 'FNTE', 'FNWB', 'FNX', 'FNY', 'FOANC', 'FOCS', 'FOLD', 'FOMX', 'FONE', 'FONR', 'FORD', 'FORK', 'FORM', 'FORR', 'FORTY', 'FOSL', 'FOX', 'FOXA', 'FOXF', 'FPA', 'FPAY', 'FPRX', 'FPXI', 'FRAN', 'FRBA']\n",
      "['FRBK', 'FRED', 'FRGI', 'FRME', 'FRPH', 'FRPT', 'FRSH', 'FRSX', 'FRTA', 'FSAC', 'FSBC', 'FSBW', 'FSCT', 'FSFG', 'FSLR', 'FSNN', 'FSTR', 'FSV', 'FSZ', 'FTA', 'FTAG', 'FTC', 'FTCS', 'FTD', 'FTEK', 'FTEO', 'FTFT', 'FTGC', 'FTHI', 'FTLB', 'FTNT', 'FTR', 'FTRI', 'FTSL', 'FTSM', 'FTSV', 'FTXD', 'FTXG', 'FTXH', 'FTXL', 'FTXN', 'FTXO', 'FTXR', 'FULT', 'FUNC', 'FUND', 'FUSB', 'FUV', 'FV', 'FVC', 'FVE', 'FWONA', 'FWONK', 'FWP', 'FWRD', 'FYC', 'FYT', 'FYX', 'GABC', 'GAIA', 'GAIN', 'GALT', 'GARS', 'GASS', 'GBCI', 'GBDC', 'GBLI', 'GBNK', 'GBT', 'GCBC', 'GDEN', 'GDS', 'GEC', 'GECC', 'GEMP', 'GENC', 'GENE', 'GENY', 'GEOS', 'GERN', 'GEVO', 'GFED', 'GFN', 'GGAL', 'GHDX', 'GIFI', 'GIGM', 'GIII', 'GILD', 'GILT', 'GLAD', 'GLBS', 'GLBZ', 'GLDD', 'GLDI', 'GLG', 'GLIBA', 'GLMD', 'GLNG', 'GLPG']\n",
      "['GLPI', 'GLRE', 'GLUU', 'GLYC', 'GMLP', 'GNBC', 'GNCA', 'GNMA', 'GNMK', 'GNMX', 'GNPX', 'GNRX', 'GNTX', 'GNTY', 'GNUS', 'GOGL', 'GOGO', 'GOLD', 'GOOD', 'GOOG', 'GOOGL', 'GOV', 'GPAQ', 'GPIC', 'GPOR', 'GPP', 'GPRE', 'GPRO', 'GRBIC', 'GRBK', 'GRFS', 'GRID', 'GRIF', 'GRIN', 'GRMN', 'GRNQ', 'GROW', 'GRPN', 'GRVY', 'GSBC', 'GSHD', 'GSHT', 'GSIT', 'GSKY', 'GSM', 'GSUM', 'GSVC', 'GT', 'GTHX', 'GTIM', 'GTLS', 'GTXI', 'GTYH', 'GULF', 'GURE', 'GVP', 'GWGH', 'GWPH', 'GWRS', 'GYRO', 'HA', 'HABT', 'HAFC', 'HAIN', 'HAIR', 'HALL', 'HALO', 'HAS', 'HAYN', 'HBAN', 'HBCP', 'HBIO', 'HBK', 'HBMD', 'HBNC', 'HBP', 'HCAP', 'HCCH', 'HCCI', 'HCKT', 'HCM', 'HCSG', 'HDP', 'HDS', 'HDSN', 'HEAR', 'HEBT', 'HEES', 'HELE', 'HEWG', 'HFBC', 'HFBL', 'HFGIC', 'HFWA', 'HGSH', 'HIBB', 'HIFS', 'HIHO', 'HIIQ', 'HIMX']\n",
      "['HJLI', 'HLG', 'HLIT', 'HLNE', 'HMHC', 'HMNF', 'HMNY', 'HMST', 'HMSY', 'HMTA', 'HMTV', 'HNDL', 'HNNA', 'HNRG', 'HOFT', 'HOLI', 'HOLX', 'HOMB', 'HONE', 'HOPE', 'HPJ', 'HPT', 'HQCL', 'HQY', 'HRTX', 'HRZN', 'HSDT', 'HSGX', 'HSIC', 'HSII', 'HSKA', 'HSON', 'HSTM', 'HTBI', 'HTBK', 'HTBX', 'HTGM', 'HTHT', 'HTLD', 'HTLF', 'HUBG', 'HUNT', 'HURC', 'HURN', 'HVBC', 'HWBK', 'HWC', 'HWCC', 'HWKN', 'HX', 'HYAC', 'HYGS', 'HYLS', 'HYND', 'HYRE', 'HYXE', 'HYZD', 'HZNP', 'IAC', 'IAM', 'IART', 'IBB', 'IBCP', 'IBEX', 'IBKC', 'IBKR', 'IBOC', 'IBTX', 'IBUY', 'ICAD', 'ICBK', 'ICCC', 'ICCH', 'ICFI', 'ICHR', 'ICLK', 'ICLN', 'ICLR', 'ICON', 'ICPT', 'ICUI', 'IDCC', 'IDLB', 'IDRA', 'IDSA', 'IDSY', 'IDTI', 'IDXG', 'IDXX', 'IEA', 'IEF', 'IEI', 'IEP', 'IESC', 'IEUS', 'IFEU', 'IFGL', 'IFMK', 'IFRX', 'IFV']\n",
      "['IGF', 'IGLD', 'IGOV', 'III', 'IIIN', 'IIIV', 'IIJI', 'IIN', 'IIVI', 'IJT', 'IKNX', 'ILG', 'ILMN', 'ILPT', 'IMDZ', 'IMGN', 'IMI', 'IMKTA', 'IMMP', 'IMMR', 'IMMU', 'IMMY', 'IMNP', 'IMOS', 'IMPV', 'IMRN', 'IMTE', 'IMV', 'INAP', 'INBK', 'INCY', 'INDB', 'INDU', 'INDY', 'INFI', 'INFN', 'INFO', 'INFR', 'INGN', 'INNT', 'INO', 'INOD', 'INOV', 'INPX', 'INSE', 'INSG', 'INSM', 'INSY', 'INTC', 'INTG', 'INTL', 'INTU', 'INTX', 'INVA', 'INVE', 'INWK', 'IONS', 'IOSP', 'IOTS', 'IOVA', 'IPAR', 'IPAS', 'IPCI', 'IPDN', 'IPGP', 'IPHS', 'IPIC', 'IPKW', 'IPWR', 'IQ', 'IRBT', 'IRCP', 'IRDM', 'IRIX', 'IRMD', 'IROQ', 'IRTC', 'IRWD', 'ISBC', 'ISCA', 'ISHG', 'ISIG', 'ISNS', 'ISRG', 'ISRL', 'ISSC', 'ISTB', 'ISTR', 'ITCI', 'ITI', 'ITIC', 'ITRI', 'ITRM', 'ITRN', 'ITUS', 'IUSB', 'IUSG', 'IUSV', 'IVAC', 'IVENC']\n",
      "['IVFGC', 'IVFVC', 'IVTY', 'IXUS', 'IZEA', 'JACK', 'JAGX', 'JAKK', 'JASN', 'JASO', 'JAZZ', 'JBHT', 'JBLU', 'JBSS', 'JCOM', 'JCS', 'JCTCF', 'JD', 'JG', 'JJSF', 'JKHY', 'JKI', 'JMBA', 'JMU', 'JNCE', 'JNP', 'JOBS', 'JOUT', 'JRJC', 'JRSH', 'JRVR', 'JSMD', 'JSML', 'JSYN', 'JTPY', 'JVA', 'JYNT', 'KAAC', 'KALA', 'KALU', 'KALV', 'KANG', 'KBAL', 'KBLM', 'KBSF', 'KBWB', 'KBWD', 'KBWP', 'KBWR', 'KBWY', 'KCAP', 'KE', 'KELYA', 'KELYB', 'KEQU', 'KERX', 'KEYW', 'KFFB', 'KFRC', 'KGJI', 'KHC', 'KIDS', 'KIN', 'KINS', 'KIRK', 'KLAC', 'KLIC', 'KLXI', 'KMDA', 'KMPH', 'KNDI', 'KNSA', 'KNSL', 'KONA', 'KONE', 'KOOL', 'KOPN', 'KOSS', 'KPTI', 'KRMA', 'KRNT', 'KRNY', 'KRYS', 'KTCC', 'KTOS', 'KTOV', 'KTWO', 'KURA', 'KVHI', 'KZIA', 'KZR', 'LABL', 'LACQ', 'LAKE', 'LALT', 'LAMR', 'LANC', 'LAND', 'LARK', 'LASR']\n"
     ]
    },
    {
     "name": "stdout",
     "output_type": "stream",
     "text": [
      "['LAUR', 'LAWS', 'LAZY', 'LBAI', 'LBC', 'LBIX', 'LBRDA', 'LBRDK', 'LBTYA', 'LBTYB', 'LBTYK', 'LCA', 'LCNB', 'LCUT', 'LDRI', 'LE', 'LECO', 'LEDS', 'LEGR', 'LENS', 'LEVL', 'LEXEA', 'LEXEB', 'LFAC', 'LFUS', 'LFVN', 'LGCY', 'LGIH', 'LGND', 'LHCG', 'LIFE', 'LILA', 'LILAK', 'LINC', 'LIND', 'LINK', 'LION', 'LITE', 'LIVE', 'LIVN', 'LIVX', 'LJPC', 'LKFN', 'LKOR', 'LKQ', 'LLIT', 'LLNW', 'LMAT', 'LMB', 'LMBS', 'LMFA', 'LMNR', 'LMNX', 'LMRK', 'LMST', 'LNDC', 'LNGR', 'LNTH', 'LOAN', 'LOB', 'LOCO', 'LOGI', 'LOGM', 'LONE', 'LOOP', 'LOPE', 'LORL', 'LOVE', 'LOXO', 'LPCN', 'LPLA', 'LPNT', 'LPSN', 'LPTH', 'LPTX', 'LQDA', 'LQDT', 'LRAD', 'LRCX', 'LRGE', 'LSBK', 'LSCC', 'LSTR', 'LSXMA', 'LSXMB', 'LSXMK', 'LTBR', 'LTRPA', 'LTRPB', 'LTRX', 'LTXB', 'LULU', 'LUNA', 'LVHD', 'LWAY', 'LX', 'LXRX', 'LYL', 'LYTS', 'MACK']\n",
      "['MACQ', 'MAGS', 'MAMS', 'MANH', 'MANT', 'MAR', 'MARA', 'MARK', 'MARPS', 'MASI', 'MAT', 'MATR', 'MATW', 'MAYS', 'MB', 'MBB', 'MBCN', 'MBFI', 'MBII', 'MBIN', 'MBIO', 'MBOT', 'MBRX', 'MBSD', 'MBTF', 'MBUU', 'MBWM', 'MCBC', 'MCEF', 'MCEP', 'MCFT', 'MCHI', 'MCHP', 'MCHX', 'MCRB', 'MCRI', 'MDB', 'MDCA', 'MDCO', 'MDGL', 'MDGS', 'MDIV', 'MDLZ', 'MDRX', 'MDSO', 'MDWD', 'MDXG', 'MEDP', 'MEET', 'MEIP', 'MELI', 'MELR', 'MEOH', 'MERC', 'MESO', 'METC', 'MFIN', 'MFNC', 'MFSF', 'MGEE', 'MGEN', 'MGI', 'MGIC', 'MGLN', 'MGNX', 'MGPI', 'MGRC', 'MGTA', 'MGTX', 'MGYR', 'MHLD', 'MICT', 'MIDD', 'MIK', 'MILN', 'MIME', 'MIND', 'MINI', 'MITK', 'MITL', 'MKGI', 'MKSI', 'MKTX', 'MLAB', 'MLCO', 'MLHR', 'MLNT', 'MLNX', 'MLVF', 'MMAC', 'MMDM', 'MMLP', 'MMSI', 'MMYT', 'MNDO', 'MNGA', 'MNKD', 'MNLO', 'MNOV', 'MNRO']\n",
      "['MNST', 'MNTA', 'MNTX', 'MOBL', 'MOFG', 'MOGLC', 'MOGO', 'MOMO', 'MOR', 'MORN', 'MOSY', 'MOTS', 'MOXC', 'MPAA', 'MPAC', 'MPB', 'MPCT', 'MPVD', 'MPWR', 'MRAM', 'MRBK', 'MRCC', 'MRCY', 'MRIN', 'MRLN', 'MRNS', 'MRSN', 'MRTN', 'MRTX', 'MRUS', 'MRVL', 'MSBF', 'MSBI', 'MSEX', 'MSFT', 'MSON', 'MSTR', 'MSVB', 'MTBC', 'MTCH', 'MTEC', 'MTEM', 'MTEX', 'MTFB', 'MTGE', 'MTLS', 'MTP', 'MTRX', 'MTSC', 'MTSI', 'MTSL', 'MU', 'MUDS', 'MVBF', 'MVIS', 'MXIM', 'MXWL', 'MYFW', 'MYGN', 'MYL', 'MYND', 'MYOK', 'MYOS', 'MYRG', 'MYSZ', 'MZOR', 'NAII', 'NAKD', 'NANO', 'NAOV', 'NATH', 'NATI', 'NATR', 'NAUH', 'NAVG', 'NAVI', 'NBEV', 'NBIX', 'NBN', 'NBRV', 'NBTB', 'NCBS', 'NCMI', 'NCNA', 'NCOM', 'NCSM', 'NCTY', 'NDAQ', 'NDLS', 'NDRA', 'NDSN', 'NEBU', 'NEO', 'NEOG', 'NEON', 'NEOS', 'NEPT', 'NERV', 'NESR', 'NETE']\n",
      "['NEWA', 'NEWT', 'NEXT', 'NFBK', 'NFEC', 'NFLX', 'NFTY', 'NGHC', 'NH', 'NHLD', 'NHTC', 'NICE', 'NICK', 'NIHD', 'NITE', 'NK', 'NKSH', 'NKTR', 'NLNK', 'NLST', 'NMIH', 'NMRD', 'NMRK', 'NNBR', 'NNDM', 'NODK', 'NOVN', 'NOVT', 'NRC', 'NRIM', 'NSEC', 'NSIT', 'NSSC', 'NSTG', 'NSYS', 'NTAP', 'NTCT', 'NTEC', 'NTES', 'NTGN', 'NTGR', 'NTIC', 'NTLA', 'NTNX', 'NTRA', 'NTRI', 'NTRP', 'NTRS', 'NTRSP', 'NTWK', 'NUAN', 'NURO', 'NUVA', 'NVAX', 'NVCN', 'NVCR', 'NVDA', 'NVEC', 'NVEE', 'NVFY', 'NVIV', 'NVLN', 'NVMI', 'NVMM', 'NVTR', 'NVUS', 'NWBI', 'NWFL', 'NWLI', 'NWPX', 'NWS', 'NWSA', 'NXEO', 'NXPI', 'NXST', 'NXTD', 'NXTM', 'NYMT', 'NYMX', 'NYNY', 'OASM', 'OBAS', 'OBCI', 'OBLN', 'OBNK', 'OBSV', 'OCC', 'OCFC', 'OCLR', 'OCSI', 'OCSL', 'OCUL', 'ODFL', 'ODP', 'ODT', 'OESX', 'OFED', 'OFIX', 'OFLX', 'OFS']\n",
      "['OHAI', 'OHGI', 'OHRP', 'OIIM', 'OKDCC', 'OKTA', 'OLBK', 'OLD', 'OLED', 'OLLI', 'OMAB', 'OMCL', 'OMED', 'OMER', 'OMEX', 'ON', 'ONB', 'ONCE', 'ONCS', 'ONCY', 'ONEQ', 'ONS', 'ONTX', 'ONVO', 'OPB', 'OPBK', 'OPES', 'OPGN', 'OPHC', 'OPHT', 'OPK', 'OPNT', 'OPOF', 'OPRA', 'OPRX', 'OPTN', 'OPTT', 'ORBC', 'ORBK', 'ORG', 'ORGS', 'ORIG', 'ORIT', 'ORLY', 'ORMP', 'ORPN', 'ORRF', 'OSBC', 'OSIS', 'OSN', 'OSPN', 'OSPR', 'OSS', 'OSTK', 'OSUR', 'OTEL', 'OTEX', 'OTIC', 'OTIV', 'OTTR', 'OTTW', 'OVAS', 'OVBC', 'OVID', 'OVLY', 'OXBR', 'OXFD', 'OXLC', 'OXSQ', 'OZK', 'PAAS', 'PACB', 'PACQ', 'PACW', 'PAGG', 'PAHC', 'PANL', 'PATI', 'PATK', 'PAVM', 'PAYX', 'PBBI', 'PBCT', 'PBHC', 'PBIP', 'PBPB', 'PBSK', 'PBYI', 'PCAR', 'PCH', 'PCMI', 'PCOM', 'PCRX', 'PCSB', 'PCTI', 'PCTY', 'PCYG', 'PCYO', 'PDBC', 'PDCE']\n",
      "['PDCO', 'PDD', 'PDEX', 'PDFS', 'PDLB', 'PDLI', 'PDP', 'PDVW', 'PEBK', 'PEBO', 'PEGA', 'PEGI', 'PEIX', 'PENN', 'PEP', 'PERI', 'PERY', 'PESI', 'PETQ', 'PETS', 'PETX', 'PETZ', 'PETZC', 'PEY', 'PEZ', 'PFBC', 'PFBI', 'PFF', 'PFG', 'PFI', 'PFIE', 'PFIN', 'PFIS', 'PFLT', 'PFM', 'PFMT', 'PFPT', 'PFSW', 'PGC', 'PGJ', 'PGLC', 'PGNX', 'PHII', 'PHIIK', 'PHO', 'PI', 'PICO', 'PID', 'PIE', 'PIH', 'PINC', 'PIO', 'PIRS', 'PIXY', 'PIZ', 'PKBK', 'PKOH', 'PKW', 'PLAB', 'PLAY', 'PLBC', 'PLCE', 'PLLL', 'PLPC', 'PLSE', 'PLUG', 'PLUS', 'PLW', 'PLXP', 'PLXS', 'PLYA', 'PMBC', 'PMD', 'PME', 'PMOM', 'PMPT', 'PMTS', 'PNBK', 'PNFP', 'PNK', 'PNNT', 'PNQI', 'PNRG', 'PNTR', 'PODD', 'POLA', 'POOL', 'POPE', 'POWI', 'POWL', 'PPBI', 'PPC', 'PPH', 'PPIH', 'PPSI', 'PRAA', 'PRAH', 'PRAN', 'PRCP', 'PRFT']\n",
      "['PRFZ', 'PRGS', 'PRGX', 'PRIM', 'PRKR', 'PRMW', 'PRN', 'PROV', 'PRPH', 'PRPL', 'PRPO', 'PRQR', 'PRSC', 'PRSS', 'PRTA', 'PRTK', 'PRTO', 'PRTS', 'PRVB', 'PS', 'PSAU', 'PSC', 'PSCC', 'PSCD', 'PSCE', 'PSCF', 'PSCH', 'PSCI', 'PSCM', 'PSCT', 'PSCU', 'PSDO', 'PSEC', 'PSET', 'PSL', 'PSMT', 'PSTI', 'PTC', 'PTCT', 'PTEN', 'PTF', 'PTGX', 'PTH', 'PTI', 'PTIE', 'PTLA', 'PTNR', 'PTSI', 'PTX', 'PUB', 'PUI', 'PULM', 'PVAC', 'PVAL', 'PVBC', 'PWOD', 'PXI', 'PXLW', 'PXS', 'PXUS', 'PY', 'PYDS', 'PYPL', 'PYZ', 'PZZA', 'QABA', 'QADA', 'QADB', 'QAT', 'QBAK', 'QCLN', 'QCOM', 'QCRH', 'QDEL', 'QINC', 'QIWI', 'QLC', 'QLYS', 'QNST', 'QQEW', 'QQQ', 'QQQC', 'QQQX', 'QQXT', 'QRHC', 'QRTEA', 'QRTEB', 'QRVO', 'QSII', 'QTEC', 'QTNA', 'QTNT', 'QTRH', 'QTRX', 'QUIK', 'QUMU', 'QURE', 'QYLD', 'RADA', 'RAIL']\n",
      "['RAND', 'RARE', 'RARX', 'RAVE', 'RAVN', 'RBB', 'RBBN', 'RBCAA', 'RBCN', 'RBNC', 'RCII', 'RCKT', 'RCKY', 'RCM', 'RCMT', 'RCON', 'RDCM', 'RDFN', 'RDHL', 'RDI', 'RDIB', 'RDNT', 'RDUS', 'RDVT', 'RDVY', 'RDWR', 'RECN', 'REDU', 'REFR', 'REGI', 'REGN', 'REIS', 'RELL', 'RELV', 'REPH', 'REPL', 'RESN', 'RETA', 'RETO', 'RFAP', 'RFDI', 'RFEM', 'RFEU', 'RFIL', 'RGCO', 'RGEN', 'RGLD', 'RGLS', 'RGNX', 'RGSE', 'RIBT', 'RICK', 'RIGL', 'RILY', 'RING', 'RIOT', 'RKDA', 'RLJE', 'RLM', 'RMBL', 'RMBS', 'RMCF', 'RMGN', 'RMNI', 'RMR', 'RMTI', 'RNDB', 'RNDM', 'RNDV', 'RNEM', 'RNET', 'RNLC', 'RNMC', 'RNSC', 'RNST', 'RNWK', 'ROAD', 'ROBO', 'ROBT', 'ROCK', 'ROIC', 'ROKU', 'ROLL', 'ROSE', 'ROST', 'RP', 'RPD', 'RPIBC', 'RRGB', 'RRR', 'RSLS', 'RSYS', 'RTIX', 'RTRX', 'RTTR', 'RUBY', 'RUN', 'RUSHA', 'RUSHB', 'RUTH']\n",
      "['RVEN', 'RVLT', 'RVNC', 'RVSB', 'RWLK', 'RXII', 'RYAAY', 'RYTM', 'SABR', 'SAEX', 'SAFM', 'SAFT', 'SAGE', 'SAIA', 'SAL', 'SALM', 'SAMG', 'SANM', 'SANW', 'SASR', 'SATS', 'SAUC', 'SBAC', 'SBBP', 'SBBX', 'SBCF', 'SBFG', 'SBGI', 'SBLK', 'SBNY', 'SBOT', 'SBPH', 'SBRA', 'SBSI', 'SBT', 'SBUX', 'SCAC', 'SCHL', 'SCHN', 'SCKT', 'SCON', 'SCOR', 'SCPH', 'SCSC', 'SCVL', 'SCWX', 'SCYX', 'SCZ', 'SDVY', 'SEAC', 'SECO', 'SEDG', 'SEED', 'SEIC', 'SEII', 'SELB', 'SELF', 'SENEA', 'SENEB', 'SES', 'SESN', 'SFBC', 'SFBS', 'SFIX', 'SFLY', 'SFM', 'SFNC', 'SFST', 'SGBX', 'SGC', 'SGEN', 'SGH', 'SGLB', 'SGMA', 'SGMO', 'SGMS', 'SGOC', 'SGRP', 'SGRY', 'SGYP', 'SHBI', 'SHEN', 'SHIP', 'SHLD', 'SHLM', 'SHLO', 'SHOO', 'SHOS', 'SHPG', 'SHSP', 'SHV', 'SHY', 'SIEB', 'SIEN', 'SIFI', 'SIFY', 'SIGA', 'SIGI', 'SIGM', 'SILC']\n",
      "['SIMO', 'SINA', 'SINO', 'SIR', 'SIRI', 'SITO', 'SIVB', 'SKIS', 'SKOR', 'SKYS', 'SKYW', 'SKYY', 'SLAB', 'SLCT', 'SLDB', 'SLGL', 'SLGN', 'SLIM', 'SLM', 'SLNO', 'SLP', 'SLQD', 'SLRC', 'SLS', 'SLVO', 'SMBC', 'SMBK', 'SMCI', 'SMCP', 'SMED', 'SMIT', 'SMMF', 'SMMT', 'SMPL', 'SMRT', 'SMSI', 'SMTC', 'SMTX', 'SNBR', 'SND', 'SNDE', 'SNDX', 'SNES', 'SNFCA', 'SNGX', 'SNH', 'SNHY', 'SNLN', 'SNMX', 'SNNA', 'SNOA', 'SNPS', 'SNSR', 'SNSS', 'SOCL', 'SODA', 'SOFO', 'SOHO', 'SOHU', 'SONA', 'SONC', 'SONO', 'SORL', 'SOXX', 'SP', 'SPAR', 'SPCB', 'SPEX', 'SPHS', 'SPI', 'SPKE', 'SPLK', 'SPNE', 'SPNS', 'SPOK', 'SPPI', 'SPRO', 'SPRT', 'SPSC', 'SPTN', 'SPWH', 'SPWR', 'SQBG', 'SQLV', 'SQQQ', 'SRAX', 'SRCE', 'SRCL', 'SRDX', 'SRET', 'SREV', 'SRNE', 'SRPT', 'SRRA', 'SRRK', 'SRTS', 'SSB', 'SSBI', 'SSC', 'SSFN']\n",
      "['SSKN', 'SSLJ', 'SSNC', 'SSNT', 'SSP', 'SSRM', 'SSTI', 'SSYS', 'STAA', 'STAF', 'STAY', 'STBA', 'STBZ', 'STCN', 'STDY', 'STFC', 'STIM', 'STKL', 'STKS', 'STLD', 'STLR', 'STML', 'STMP', 'STND', 'STNL', 'STPP', 'STRA', 'STRL', 'STRM', 'STRS', 'STRT', 'STX', 'STXB', 'SUMR', 'SUNS', 'SUNW', 'SUPN', 'SURF', 'SUSB', 'SUSC', 'SVA', 'SVBI', 'SVRA', 'SVVC', 'SWIN', 'SWIR', 'SWKS', 'SYBT', 'SYBX', 'SYKE', 'SYMC', 'SYNA', 'SYNC', 'SYNH', 'SYNL', 'SYNT', 'SYPR', 'SYRS', 'TA', 'TACO', 'TACT', 'TAIT', 'TANH', 'TAOP', 'TAPR', 'TAST', 'TATT', 'TAX', 'TAYD', 'TBBK', 'TBIO', 'TBK', 'TBNK', 'TBPH', 'TBRG', 'TBRGU', 'TCBI', 'TCBK', 'TCCO', 'TCDA', 'TCFC', 'TCMD', 'TCON', 'TCPC', 'TCRD', 'TCX', 'TDAC', 'TDIV', 'TEAM', 'TECD', 'TECH', 'TEDU', 'TELL', 'TENB', 'TENX', 'TERP', 'TESS', 'TFIG', 'TFSL', 'TGA']\n"
     ]
    },
    {
     "name": "stdout",
     "output_type": "stream",
     "text": [
      "['TGEN', 'TGLS', 'TGTX', 'THFF', 'THRM', 'THST', 'TIBR', 'TIG', 'TILE', 'TIPT', 'TISA', 'TITN', 'TIVO', 'TLF', 'TLGT', 'TLND', 'TLRY', 'TLT', 'TMCX', 'TMDI', 'TMSR', 'TMUS', 'TNAV', 'TNDM', 'TNXP', 'TOCA', 'TOPS', 'TORC', 'TOUR', 'TOWN', 'TPIC', 'TPIV', 'TQQQ', 'TRCB', 'TRCH', 'TREE', 'TRHC', 'TRIB', 'TRIL', 'TRIP', 'TRMB', 'TRMD', 'TRMK', 'TRMT', 'TRNC', 'TRNS', 'TROV', 'TROW', 'TRPX', 'TRS', 'TRST', 'TRUE', 'TRUP', 'TRVG', 'TRVN', 'TSBK', 'TSC', 'TSCAP', 'TSCO', 'TSEM', 'TSG', 'TSLA', 'TSRI', 'TSRO', 'TST', 'TTD', 'TTEC', 'TTEK', 'TTGT', 'TTMI', 'TTNP', 'TTOO', 'TTPH', 'TTS', 'TTWO', 'TUES', 'TUR', 'TURN', 'TUSA', 'TUSK', 'TVIX', 'TVIZ', 'TVTY', 'TWIN', 'TWLV', 'TWMC', 'TWNK', 'TWOU', 'TXMD', 'TXN', 'TXRH', 'TYHT', 'TYME', 'TYPE', 'TZOO', 'UAE', 'UBCP', 'UBFO', 'UBIO', 'UBNK']\n",
      "['UBNT', 'UBOH', 'UBSH', 'UBSI', 'UBX', 'UCBA', 'UCBI', 'UCFC', 'UCTT', 'UDBI', 'UEIC', 'UEPS', 'UFCS', 'UFPI', 'UFPT', 'UG', 'UGLD', 'UHAL', 'UIHC', 'ULBI', 'ULH', 'ULTA', 'ULTI', 'UMBF', 'UMPQ', 'UMRX', 'UNAM', 'UNB', 'UNFI', 'UNIT', 'UNTY', 'UONE', 'UONEK', 'UPL', 'UPLD', 'URBN', 'URGN', 'USAK', 'USAP', 'USAT', 'USATP', 'USAU', 'USCR', 'USEG', 'USLB', 'USLM', 'USLV', 'USMC', 'USOI', 'UTHR', 'UTMD', 'UTSI', 'UVSP', 'UXIN', 'VALU', 'VALX', 'VBFC', 'VBIV', 'VBLT', 'VBTX', 'VC', 'VCEL', 'VCIT', 'VCLT', 'VCNX', 'VCSH', 'VCTR', 'VCYT', 'VEAC', 'VECO', 'VEON', 'VERI', 'VERU', 'VETS', 'VGIT', 'VGLT', 'VGSH', 'VIA', 'VIAB', 'VIAV', 'VICL', 'VICR', 'VIGI', 'VIIX', 'VIIZ', 'VIRC', 'VIRT', 'VIVE', 'VIVO', 'VKTX', 'VLGEA', 'VLRX', 'VMBS', 'VNDA', 'VNET', 'VNOM', 'VNQI', 'VOD', 'VONE', 'VONG']\n",
      "['VONV', 'VOXX', 'VRA', 'VRAY', 'VRCA', 'VREX', 'VRIG', 'VRML', 'VRNA', 'VRNS', 'VRNT', 'VRSK', 'VRSN', 'VRTS', 'VRTU', 'VRTX', 'VSAR', 'VSAT', 'VSDA', 'VSEC', 'VSMV', 'VSTM', 'VTC', 'VTGN', 'VTHR', 'VTIP', 'VTIQ', 'VTL', 'VTNR', 'VTSI', 'VTVT', 'VTWG', 'VTWO', 'VTWV', 'VUZI', 'VVPR', 'VVUS', 'VWOB', 'VXRT', 'VXUS', 'VYGR', 'VYMI', 'WABC', 'WAFD', 'WASH', 'WATT', 'WB', 'WBA', 'WCFB', 'WDAY', 'WDC', 'WDFC', 'WEB', 'WEBK', 'WEN', 'WERN', 'WETF', 'WEYS', 'WHF', 'WHLM', 'WHLR', 'WIFI', 'WILC', 'WIN', 'WINA', 'WING', 'WINS', 'WIRE', 'WIX', 'WKHS', 'WLDN', 'WLFC', 'WLTW', 'WMGI', 'WMIH', 'WNEB', 'WOOD', 'WPRT', 'WRLD', 'WRLS', 'WSBC', 'WSBF', 'WSC', 'WSCI', 'WSFS', 'WSTG', 'WSTL', 'WTBA', 'WTFC', 'WVE', 'WVFC', 'WVVI', 'WWD', 'WWR', 'WYNN', 'XBIO', 'XBIT', 'XCRA', 'XEL', 'XELA']\n",
      "['AADR', 'ACIM', 'ACWF', 'ADZ', 'AFK', 'AFTY', 'AGA', 'AGF', 'AGG', 'AGGE', 'AGGP', 'AGGY', 'AGQ', 'AGZ', 'AIEQ', 'AIIQ', 'ALD', 'AMJ', 'AMJL', 'AMLP', 'AMU', 'AMUB', 'AMZA', 'ANGL', 'AOA', 'AOK', 'AOM', 'AOR', 'ARGT', 'ARKG', 'ARKK', 'ARKQ', 'ARKW', 'ASEA', 'ASHR', 'ASHS', 'ASHX', 'ATMP', 'AUSE', 'AXJL', 'AXJV', 'AYT', 'BAB', 'BALB', 'BAR', 'BARL', 'BATT', 'BBC', 'BBP', 'BBRC', 'BCD', 'BCI', 'BCM', 'BDCL', 'BDCS', 'BDCZ', 'BDD', 'BDG', 'BDRY', 'BEF', 'BFOR', 'BIBL', 'BIKR', 'BIL', 'BIV', 'BIZD', 'BJJN', 'BJK', 'BJO', 'BKC', 'BKF', 'BKLN', 'BLES', 'BLHY', 'BLOK', 'BLV', 'BND', 'BNDC', 'BNO', 'BOIL', 'BOM', 'BOND', 'BOON', 'BOS', 'BRF', 'BRZU', 'BSCI', 'BSCJ', 'BSCK', 'BSCL', 'BSCM', 'BSCN', 'BSCO', 'BSCP', 'BSCQ', 'BSCR', 'BSJI', 'BSJJ', 'BSJK', 'BSJL']\n",
      "['AADR', 'ACIM', 'ACWF', 'ADZ', 'AFK', 'AFTY', 'AGA', 'AGF', 'AGG', 'AGGE', 'AGGP', 'AGGY', 'AGQ', 'AGZ', 'AIEQ', 'AIIQ', 'ALD', 'AMJ', 'AMJL', 'AMLP', 'AMU', 'AMUB', 'AMZA', 'ANGL', 'AOA', 'AOK', 'AOM', 'AOR', 'ARGT', 'ARKG', 'ARKK', 'ARKQ', 'ARKW', 'ASEA', 'ASHR', 'ASHS', 'ASHX', 'ATMP', 'AUSE', 'AXJL', 'AXJV', 'AYT', 'BAB', 'BALB', 'BAR', 'BARL', 'BATT', 'BBC', 'BBP', 'BBRC', 'BCD', 'BCI', 'BCM', 'BDCL', 'BDCS', 'BDCZ', 'BDD', 'BDG', 'BDRY', 'BEF', 'BFOR', 'BIBL', 'BIKR', 'BIL', 'BIV', 'BIZD', 'BJJN', 'BJK', 'BJO', 'BKC', 'BKF', 'BKLN', 'BLES', 'BLHY', 'BLOK', 'BLV', 'BND', 'BNDC', 'BNO', 'BOIL', 'BOM', 'BOND', 'BOON', 'BOS', 'BRF', 'BRZU', 'BSCI', 'BSCJ', 'BSCK', 'BSCL', 'BSCM', 'BSCN', 'BSCO', 'BSCP', 'BSCQ', 'BSCR', 'BSJI', 'BSJJ', 'BSJK', 'BSJL']\n",
      "['BSJM', 'BSJN', 'BSJO', 'BSJP', 'BSV', 'BTAL', 'BUY', 'BUYN', 'BUZ', 'BVAL', 'BWV', 'BWX', 'BWZ', 'BYLD', 'BZF', 'BZQ', 'CANE', 'CAPE', 'CBND', 'CBON', 'CCOR', 'CEF', 'CEFL', 'CEW', 'CGW', 'CHAD', 'CHAU', 'CHEP', 'CHGX', 'CHIE', 'CHII', 'CHIM', 'CHIQ', 'CHIX', 'CJNK', 'CLIX', 'CLTL', 'CLY', 'CLYH', 'CMBS', 'CMDT', 'CMDY', 'CMF', 'CN', 'CNHX', 'CNXT', 'CNY', 'COM', 'COMB', 'COMG', 'COPX', 'CORN', 'CORP', 'COWB', 'COWTF', 'CPER', 'CPI', 'CQQQ', 'CRAK', 'CRBN', 'CROC', 'CROP', 'CSD', 'CUMB', 'CURE', 'CUT', 'CVY', 'CWB', 'CWEB', 'CWI', 'CWS', 'CYB', 'CZA', 'DAG', 'DAUD', 'DBA', 'DBAP', 'DBAW', 'DBB', 'DBC', 'DBE', 'DBEF', 'DBEM', 'DBEU', 'DBEZ', 'DBGR', 'DBJP', 'DBKO', 'DBO', 'DBP', 'DBS', 'DBUK', 'DBV', 'DCHF', 'DDG', 'DDM', 'DDP', 'DEE', 'DEEF', 'DEF']\n",
      "['DEM', 'DEMG', 'DES', 'DESC', 'DEUR', 'DEUS', 'DEW', 'DFE', 'DFEN', 'DFJ', 'DGAZ', 'DGBP', 'DGL', 'DGP', 'DGRO', 'DGS', 'DGT', 'DGZ', 'DHS', 'DHVW', 'DIA', 'DIAL', 'DIG', 'DIM', 'DIV', 'DIVA', 'DIVC', 'DIVY', 'DJCI', 'DJD', 'DJP', 'DJPY', 'DLBR', 'DLN', 'DLS', 'DMRI', 'DMRL', 'DMRM', 'DMRS', 'DNL', 'DNO', 'DOD', 'DOG', 'DOGS', 'DOL', 'DON', 'DOO', 'DPK', 'DPST', 'DPU', 'DRIP', 'DRN', 'DRR', 'DRV', 'DRW', 'DSI', 'DSUM', 'DTD', 'DTH', 'DTN', 'DTO', 'DUG', 'DUSL', 'DUST', 'DVHL', 'DVP', 'DVYA', 'DVYE', 'DVYL', 'DWM', 'DWMC', 'DWSH', 'DWT', 'DWX', 'DXD', 'DXJ', 'DXJF', 'DYY', 'DZK', 'DZZ', 'EASI', 'EBND', 'ECNS', 'ECON', 'EDC', 'EDIV', 'EDOG', 'EDOW', 'EDV', 'EDZ', 'EEB', 'EEH', 'EELV', 'EEM', 'EEMD', 'EEMO', 'EEMS', 'EEMX', 'EES', 'EET']\n",
      "['EEV', 'EFA', 'EFAX', 'EFFE', 'EFO', 'EFU', 'EFZ', 'EGPT', 'EIDO', 'EIRL', 'EIS', 'EKAR', 'ELD', 'EMAG', 'EMBH', 'EMBU', 'EMEM', 'EMFM', 'EMLB', 'EMLC', 'EMLP', 'EMQQ', 'EMTY', 'ENFR', 'ENTR', 'ENY', 'EPHE', 'EPI', 'EPOL', 'EPP', 'EPS', 'EPU', 'EPV', 'EQAL', 'EQL', 'EQLT', 'EQWL', 'EQWM', 'EQWS', 'ERM', 'ERO', 'ERUS', 'ERX', 'ERY', 'ESBA', 'ESGF', 'ESGL', 'ESGN', 'ESGS', 'ESGW', 'ETHO', 'EUDG', 'EUFL', 'EUFX', 'EUM', 'EUMV', 'EUO', 'EURL', 'EUSA', 'EUSC', 'EUXL', 'EVX', 'EWA', 'EWC', 'EWD', 'EWEM', 'EWG', 'EWH', 'EWI', 'EWJ', 'EWK', 'EWL', 'EWM', 'EWMC', 'EWN', 'EWO', 'EWP', 'EWQ', 'EWRE', 'EWS', 'EWSC', 'EWT', 'EWU', 'EWV', 'EWW', 'EWX', 'EWY', 'EWZ', 'EXI', 'EXT', 'EZA', 'EZJ', 'EZM', 'FAN', 'FAS', 'FAUS', 'FAZ', 'FBGX', 'FBND', 'FBT']\n",
      "['FCG', 'FCOM', 'FCOR', 'FDD', 'FDHY', 'FDIS', 'FDL', 'FDLO', 'FDM', 'FDMO', 'FDN', 'FDRR', 'FDVV', 'FENY', 'FEU', 'FEUL', 'FEZ', 'FFEU', 'FFIU', 'FFR', 'FGD', 'FHLC', 'FIDI', 'FIDU', 'FIEE', 'FIEG', 'FIEU', 'FIHD', 'FILL', 'FINU', 'FINZ', 'FISK', 'FIVA', 'FIW', 'FIYY', 'FLAG', 'FLAU', 'FLAX', 'FLBR', 'FLCA', 'FLCH', 'FLCO', 'FLDR', 'FLEE', 'FLEH', 'FLEU', 'FLFR', 'FLGB', 'FLGE', 'FLGR', 'FLHK', 'FLIN', 'FLIO', 'FLIY', 'FLJH', 'FLJP', 'FLKR', 'FLLV', 'FLM', 'FLMB', 'FLMI', 'FLMX', 'FLQD', 'FLQE', 'FLQG', 'FLQH', 'FLRN', 'FLRT', 'FLRU', 'FLSW', 'FLTB', 'FLTR', 'FLTW', 'FM', 'FMAT', 'FMDG', 'FMF', 'FNCL', 'FNDA', 'FNDB', 'FNDC', 'FNDE', 'FNDF', 'FNDX', 'FNG', 'FNI', 'FPE', 'FPEI', 'FPX', 'FQAL', 'FRAK', 'FREL', 'FRI', 'FRN', 'FSTA', 'FTEC', 'FTLS', 'FTSD', 'FUD', 'FUE']\n",
      "['FUTY', 'FVAL', 'FVD', 'FVL', 'FWDB', 'FWDD', 'FWDI', 'FXA', 'FXB', 'FXC', 'FXCH', 'FXD', 'FXE', 'FXF', 'FXG', 'FXH', 'FXI', 'FXL', 'FXN', 'FXO', 'FXP', 'FXR', 'FXS', 'FXSG', 'FXU', 'FXY', 'FXZ', 'GAL', 'GAMR', 'GASL', 'GASX', 'GAZB', 'GAZZF', 'GBF', 'GBIL', 'GCC', 'GCE', 'GDX', 'GDXJ', 'GDXS', 'GDXX', 'GEM', 'GEX', 'GHII', 'GHYB', 'GIGB', 'GII', 'GLD', 'GLDM', 'GLDW', 'GLL', 'GLTR', 'GMF', 'GMFL', 'GMOM', 'GNR', 'GOAU', 'GOEX', 'GQRE', 'GREK', 'GRES', 'GRI', 'GRN', 'GRNB', 'GRU', 'GSC', 'GSEU', 'GSG', 'GSIE', 'GSJY', 'GSLC', 'GSP', 'GSSC', 'GSY', 'GTO', 'GUNR', 'GURU', 'GUSH', 'GVAL', 'GVIP', 'GWX', 'GXC', 'GXF', 'GXG', 'GYLD', 'HACK', 'HACW', 'HAHA', 'HAO', 'HAP', 'HAUD', 'HAWX', 'HCOR', 'HDAW', 'HDEF', 'HDG', 'HDGE', 'HDLV', 'HDMV', 'HDV']\n",
      "['HECO', 'HEDJ', 'HEWC', 'HEWI', 'HEWJ', 'HEWL', 'HEWP', 'HEWU', 'HEWW', 'HEWY', 'HEZU', 'HFXE', 'HFXI', 'HFXJ', 'HGI', 'HHYX', 'HILO', 'HIPS', 'HJPX', 'HMOP', 'HOLD', 'HOML', 'HONR', 'HQBD', 'HSCZ', 'HSPX', 'HTAB', 'HTRB', 'HTUS', 'HUSE', 'HUSV', 'HYD', 'HYDD', 'HYDW', 'HYEM', 'HYG', 'HYGH', 'HYGV', 'HYLB', 'HYLD', 'HYLV', 'HYMB', 'HYS', 'HYUP', 'IAI', 'IAK', 'IAT', 'IAU', 'IBCD', 'IBCE', 'IBD', 'IBDC', 'IBDD', 'IBDH', 'IBDK', 'IBDL', 'IBDM', 'IBDN', 'IBDO', 'IBDP', 'IBDQ', 'IBDR', 'IBDS', 'IBMG', 'IBMH', 'IBMI', 'IBMJ', 'IBMK', 'IBND', 'ICAN', 'ICI', 'ICOL', 'IDEV', 'IDHQ', 'IDIV', 'IDLV', 'IDMO', 'IDOG', 'IDU', 'IDX', 'IEMG', 'IEUR', 'IEV', 'IEZ', 'IFLY', 'IG', 'IGEM', 'IGM', 'IGN', 'IHDG', 'IHE', 'IHF', 'IHI', 'IHY', 'IJH', 'IJJ', 'IJK', 'IJR', 'IJS', 'ILF']\n"
     ]
    },
    {
     "name": "stdout",
     "output_type": "stream",
     "text": [
      "['ILTB', 'IMLP', 'IMTB', 'IMTM', 'INCO', 'INDL', 'INDS', 'INKM', 'INR', 'INTF', 'INXX', 'IOO', 'IPAC', 'IPAY', 'IPE', 'IPO', 'IPOS', 'IQDE', 'IQDF', 'IQDY', 'IQLT', 'IRBO', 'ISCF', 'ISMD', 'ISRA', 'ISZE', 'ITE', 'ITEQ', 'ITM', 'ITOT', 'IVE', 'IVLU', 'IVOG', 'IVOO', 'IVOV', 'IVV', 'IVW', 'IWB', 'IWC', 'IWD', 'IWF', 'IWL', 'IWM', 'IWN', 'IWO', 'IWP', 'IWR', 'IWS', 'IWV', 'IWX', 'IWY', 'IXC', 'IXG', 'IXJ', 'IXN', 'IXP', 'IYC', 'IYE', 'IYF', 'IYG', 'IYH', 'IYK', 'IYM', 'IYR', 'IYW', 'IYY', 'JDIV', 'JDST', 'JEM', 'JETS', 'JHDG', 'JHMA', 'JHMC', 'JHMD', 'JHME', 'JHMF', 'JHMH', 'JHMI', 'JHML', 'JHMM', 'JHMS', 'JHMT', 'JHMU', 'JHSC', 'JJAB', 'JJCB', 'JJE', 'JJEB', 'JJGB', 'JJM', 'JJMB', 'JJP', 'JJPB', 'JJS', 'JJSB', 'JJT', 'JJTB', 'JJU', 'JJUB', 'JKD']\n",
      "['JKE', 'JKF', 'JKG', 'JKH', 'JKJ', 'JKK', 'JKL', 'JMIN', 'JMOM', 'JNK', 'JNUG', 'JPED', 'JPEH', 'JPEM', 'JPEU', 'JPGE', 'JPHF', 'JPIH', 'JPIN', 'JPLS', 'JPMB', 'JPME', 'JPMF', 'JPMV', 'JPN', 'JPNL', 'JPSE', 'JPUS', 'JPXN', 'JQUA', 'JUST', 'JVAL', 'JXI', 'JYN', 'KARS', 'KBA', 'KBE', 'KCE', 'KCNY', 'KEMQ', 'KFYP', 'KGRN', 'KIE', 'KLDW', 'KNOW', 'KOIN', 'KOL', 'KOLD', 'KOR', 'KORP', 'KORU', 'KRE', 'KSA', 'KURE', 'KWEB', 'KXI', 'LABD', 'LABU', 'LBDC', 'LBJ', 'LD', 'LDRS', 'LDUR', 'LEMB', 'LFEQ', 'LGLV', 'LIT', 'LMLP', 'LOWC', 'LQD', 'LQDH', 'LRET', 'LRGF', 'LSST', 'LTL', 'LTPZ', 'LVL', 'MBG', 'MCRO', 'MDY', 'MDYG', 'MDYV', 'MEXX', 'MFDX', 'MFEM', 'MFLA', 'MFUS', 'MGC', 'MGK', 'MGV', 'MIDU', 'MIDZ', 'MINC', 'MINT', 'MJ', 'MLN', 'MLPA', 'MLPB', 'MLPC', 'MLPE']\n",
      "['MLPG', 'MLPI', 'MLPO', 'MLPQ', 'MLPX', 'MLPY', 'MLPZ', 'MLTI', 'MMIN', 'MMIT', 'MMTM', 'MNA', 'MOAT', 'MOM', 'MOO', 'MORL', 'MORT', 'MOTI', 'MRRL', 'MUB', 'MUNI', 'MVIN', 'MVV', 'MXDE', 'MXDU', 'MXI', 'MYY', 'MZZ', 'NACP', 'NAIL', 'NANR', 'NFLT', 'NFO', 'NFRA', 'NGE', 'NIB', 'NLR', 'NORW', 'NUAG', 'NUBD', 'NUGT', 'NUSA', 'NYF', 'OASI', 'OBOR', 'OCIO', 'OEF', 'OEUR', 'OEW', 'OGCP', 'OGIG', 'OIH', 'OILB', 'OILD', 'OILNF', 'OILU', 'OILX', 'OLEM', 'OLO', 'ONEO', 'ONEV', 'ONEY', 'ONTL', 'OPER', 'OSCV', 'OUNZ', 'OUSA', 'OUSM', 'OVLC', 'PAF', 'PAK', 'PALL', 'PBD', 'PBE', 'PBJ', 'PBP', 'PBS', 'PBW', 'PCEF', 'PCY', 'PDN', 'PEJ', 'PEK', 'PFFA', 'PFFR', 'PFIG', 'PFXF', 'PGAL', 'PGD', 'PGF', 'PGHY', 'PGM', 'PGMB', 'PGX', 'PHB', 'PHDG', 'PHYS', 'PICB', 'PILL', 'PIN']\n",
      "['PJP', 'PKB', 'PLND', 'PLTM', 'PMR', 'PPA', 'PPDM', 'PPEM', 'PPLC', 'PPLN', 'PPLT', 'PPMC', 'PPSC', 'PPTB', 'PPTY', 'PRB', 'PRF', 'PRID', 'PRME', 'PSI', 'PSJ', 'PSK', 'PSLV', 'PSP', 'PSQ', 'PSR', 'PST', 'PULS', 'PUTW', 'PUW', 'PVI', 'PWB', 'PWC', 'PWV', 'PWZ', 'PXE', 'PXF', 'PXH', 'PXJ', 'PXLG', 'PXLV', 'PXMG', 'PXMV', 'PXQ', 'PXR', 'PXSG', 'PXSV', 'PZA', 'PZD', 'PZI', 'PZT', 'QAI', 'QARP', 'QCAN', 'QDEF', 'QDEU', 'QDF', 'QDYN', 'QED', 'QEFA', 'QEMM', 'QGBR', 'QGTA', 'QID', 'QJPN', 'QLD', 'QLS', 'QLTA', 'QMN', 'QQQE', 'QSY', 'QUS', 'QVM', 'QWLD', 'RAAX', 'RALS', 'RAVI', 'RBIN', 'RBUS', 'RCD', 'RDIV', 'REET', 'REK', 'REML', 'REMX', 'RETL', 'REW', 'REZ', 'RFCI', 'RFDA', 'RFFC', 'RFG', 'RFUN', 'RFV', 'RGI', 'RHS', 'RIGS', 'RINF', 'RISE', 'RJA']\n",
      "['RJI', 'RJN', 'RJZ', 'RLY', 'ROAM', 'RODI', 'RODM', 'ROGS', 'ROLA', 'ROM', 'ROOF', 'RORE', 'ROUS', 'RPG', 'RPV', 'RSP', 'RSX', 'RSXJ', 'RTH', 'RTL', 'RTLA', 'RTM', 'RUSL', 'RUSS', 'RVNU', 'RWJ', 'RWK', 'RWL', 'RWM', 'RWO', 'RWR', 'RWW', 'RWX', 'RXD', 'RXI', 'RXL', 'RYE', 'RYF', 'RYH', 'RYJ', 'RYT', 'RYU', 'RZG', 'RZV', 'SAA', 'SAGG', 'SBB', 'SBIO', 'SBM', 'SCAP', 'SCC', 'SCHA', 'SCHB', 'SCHC', 'SCHD', 'SCHE', 'SCHF', 'SCHG', 'SCHH', 'SCHK', 'SCHM', 'SCHO', 'SCHP', 'SCHR', 'SCHV', 'SCHX', 'SCHZ', 'SCID', 'SCIF', 'SCIJ', 'SCIN', 'SCIU', 'SCIX', 'SCJ', 'SCO', 'SCTO', 'SDCI', 'SDD', 'SDEM', 'SDIV', 'SDOG', 'SDOW', 'SDP', 'SDS', 'SDY', 'SDYL', 'SEA', 'SEF', 'SFLA', 'SGDJ', 'SGDM', 'SGGB', 'SGOL', 'SH', 'SHE', 'SHM', 'SHNY', 'SHYD', 'SHYG', 'SHYL']\n",
      "['SIJ', 'SIL', 'SILJ', 'SIVR', 'SIZ', 'SIZE', 'SJB', 'SJNK', 'SKF', 'SLV', 'SLX', 'SLY', 'SLYG', 'SLYV', 'SMB', 'SMDD', 'SMEZ', 'SMH', 'SMHD', 'SMLF', 'SMLL', 'SMLV', 'SMMU', 'SMN', 'SOIL', 'SOXL', 'SOXS', 'SOYB', 'SPAB', 'SPDN', 'SPDV', 'SPDW', 'SPEM', 'SPFF', 'SPHB', 'SPHD', 'SPHQ', 'SPIB', 'SPLB', 'SPLG', 'SPLV', 'SPMD', 'SPMO', 'SPPP', 'SPSB', 'SPSM', 'SPTL', 'SPTM', 'SPTS', 'SPUN', 'SPUU', 'SPVU', 'SPXB', 'SPXE', 'SPXL', 'SPXN', 'SPXS', 'SPXT', 'SPXU', 'SPXV', 'SPY', 'SPYB', 'SPYD', 'SPYG', 'SPYV', 'SPYX', 'SRLN', 'SRS', 'SRTY', 'SRVR', 'SSG', 'SSO', 'STIP', 'STPZ', 'SUB', 'SUSA', 'SVXY', 'SYE', 'SYG', 'SYLD', 'SYV', 'SZK', 'SZO', 'TAGS', 'TAN', 'TAO', 'TBF', 'TBT', 'TBX', 'TDTF', 'TDTT', 'TECL', 'TECS', 'TERM', 'TETF', 'TFI', 'TFLO', 'THD', 'TILT', 'TIP']\n",
      "['TIPX', 'TIPZ', 'TLDH', 'TLEH', 'TLH', 'TLTD', 'TLTE', 'TMF', 'TMV', 'TNA', 'TOK', 'TOLZ', 'TOTL', 'TPOR', 'TPYP', 'TTFS', 'TTT', 'TUZ', 'TWM', 'TYBS', 'TYD', 'TYNS', 'TYO', 'TZA', 'UAG', 'UAUD', 'UBG', 'UBOT', 'UBR', 'UBT', 'UCC', 'UCHF', 'UCI', 'UCIB', 'UCO', 'UCON', 'UDN', 'UDOW', 'UEUR', 'UEVM', 'UGA', 'UGAZ', 'UGBP', 'UGE', 'UGL', 'UHN', 'UITB', 'UIVM', 'UJB', 'UJPY', 'ULBR', 'ULE', 'ULST', 'ULVM', 'UMDD', 'UNG', 'UNL', 'UPRO', 'UPV', 'UPW', 'URA', 'URE', 'URR', 'URTH', 'URTY', 'USAG', 'USAI', 'USCI', 'USD', 'USDU', 'USFR', 'USL', 'USO', 'USOD', 'USOU', 'USRT', 'UST', 'USTB', 'USV', 'USVM', 'UTES', 'UTSL', 'UUP', 'UVXY', 'UWM', 'UWT', 'UWTI', 'UXI', 'UYG', 'UYM', 'VALQ', 'VAW', 'VB', 'VBK', 'VBND', 'VBR', 'VCR', 'VDC', 'VDE', 'VEA']\n",
      "['VEGA', 'VEGI', 'VESH', 'VEU', 'VFH', 'VGFO', 'VGK', 'VGT', 'VHT', 'VIDI', 'VIG', 'VIOG', 'VIOO', 'VIOV', 'VIS', 'VIXM', 'VIXY', 'VLU', 'VNLA', 'VNM', 'VNQ', 'VO', 'VOE', 'VOO', 'VOOG', 'VOOV', 'VOT', 'VOX', 'VPL', 'VPU', 'VQT', 'VRP', 'VSL', 'VSS', 'VT', 'VTEB', 'VTI', 'VTV', 'VUG', 'VUSE', 'VV', 'VWO', 'VXF', 'VXX', 'VXZ', 'VYM', 'WBAL', 'WBIA', 'WBIB', 'WBIC', 'WBID', 'WBIE', 'WBIF', 'WBIG', 'WBIH', 'WBII', 'WBIL', 'WBIR', 'WBIY', 'WCHN', 'WDIV', 'WDRW', 'WEAT', 'WIL', 'WIP', 'WMCR', 'WMW', 'WPS', 'WREI', 'WTID', 'WTIU', 'WTMF', 'XAR', 'XBI', 'XCEM', 'XDIV', 'XES', 'XHB', 'XHE', 'XHS', 'XINA', 'XITK', 'XKFS', 'XKII', 'XKST', 'XLB', 'XLC', 'XLE', 'XLF', 'XLG', 'XLI', 'XLK', 'XLP', 'XLRE', 'XLU', 'XLV', 'XLY', 'XME', 'XMLV', 'XMPT']\n",
      "elapsed_time_total 0:01:24.996023\n"
     ]
    }
   ],
   "source": [
    "from genesis.market_data.market_data import YCharts\n",
    "from datetime import datetime\n",
    "mk_data = YCharts(settings.YCHART_API, logger)\n",
    "from genesis.persistence.CollectionSymbolPersistence import CollectionSymbolPersistence\n",
    "def chunks(l, n):\n",
    "    \"\"\"Yield successive n-sized chunks from l.\"\"\"\n",
    "    for i in range(0, len(l), n):\n",
    "        yield l[i:i + n]\n",
    "        \n",
    "symbols = CollectionSymbolPersistence.get()\n",
    "\n",
    "date_before = datetime.now()\n",
    "\n",
    "df = DataFrame()\n",
    "for symbols_list in list(chunks([i for i in symbols.get_tickers()], 100)):\n",
    "    data = mk_data.get_metrics_from_points(symbols_list, metrics=[\"price\", \"volume\"])\n",
    "    if df is None:\n",
    "        df = data\n",
    "    else:\n",
    "        df = df.append(data, sort=False)\n",
    "\n",
    "print(\"elapsed_time_total {}\".format(datetime.now() - date_before)) \n",
    "\n",
    "\n"
   ]
  },
  {
   "cell_type": "code",
   "execution_count": 54,
   "metadata": {},
   "outputs": [
    {
     "data": {
      "text/plain": [
       "<matplotlib.axes._subplots.AxesSubplot at 0x218de1a0c88>"
      ]
     },
     "execution_count": 54,
     "metadata": {},
     "output_type": "execute_result"
    },
    {
     "data": {
      "image/png": "[encoded data removed]",
      "text/plain": [
       "<Figure size 432x288 with 1 Axes>"
      ]
     },
     "metadata": {},
     "output_type": "display_data"
    }
   ],
   "source": [
    "#df.info()\n",
    "df.volume.cumsum().plot()"
   ]
  },
  {
   "cell_type": "code",
   "execution_count": null,
   "metadata": {},
   "outputs": [],
   "source": [
    "stock_list = [\"RMP\"]\n",
    "metrics = [\"price\", \"volume\"]\n",
    "stock_data = mk_data.company_client.get_points(stock_list, metrics)\n",
    "\n",
    "points_df = DataFrame()\n",
    "for symbol in list(stock_data[\"response\"].keys()):\n",
    "    data_dict = {\n",
    "        \"symbol\": symbol,\n",
    "    }\n",
    "    # download metrics\n",
    "    for metric in metrics:\n",
    "        extracted_data = stock_data[\"response\"][str(symbol)][\"results\"][str(metric)][\"data\"]\n",
    "        add_dict = {\n",
    "            \"date\" : extracted_data[0],\n",
    "            metric : extracted_data[1]\n",
    "        }\n",
    "        data_dict.update(add_dict)\n",
    "    dataframe = DataFrame(dict(data_dict), index=[0])\n",
    "    points_df = points_df.append(dataframe)\n",
    "points_df.tail()"
   ]
  },
  {
   "cell_type": "code",
   "execution_count": 27,
   "metadata": {},
   "outputs": [
    {
     "data": {
      "text/plain": [
       "{'response': {'RMP': {'meta': {'error_code': 404,\n",
       "    'status': 'error',\n",
       "    'error_message': 'Symbol Not Found.'}}},\n",
       " 'meta': {'status': 'ok',\n",
       "  'url': 'http://ycharts.com/api/v3/companies/RMP/points/price,volume'}}"
      ]
     },
     "execution_count": 27,
     "metadata": {},
     "output_type": "execute_result"
    }
   ],
   "source": [
    "stock_data\n"
   ]
  },
  {
   "cell_type": "code",
   "execution_count": 25,
   "metadata": {},
   "outputs": [
    {
     "ename": "NameError",
     "evalue": "name 'results_data' is not defined",
     "output_type": "error",
     "traceback": [
      "\u001b[1;31m---------------------------------------------------------------------------\u001b[0m",
      "\u001b[1;31mNameError\u001b[0m                                 Traceback (most recent call last)",
      "\u001b[1;32m<ipython-input-25-266946dde734>\u001b[0m in \u001b[0;36m<module>\u001b[1;34m()\u001b[0m\n\u001b[0;32m     15\u001b[0m             \u001b[0mdata_dict\u001b[0m\u001b[1;33m.\u001b[0m\u001b[0mupdate\u001b[0m\u001b[1;33m(\u001b[0m\u001b[0madd_dict\u001b[0m\u001b[1;33m)\u001b[0m\u001b[1;33m\u001b[0m\u001b[0m\n\u001b[0;32m     16\u001b[0m \u001b[1;33m\u001b[0m\u001b[0m\n\u001b[1;32m---> 17\u001b[1;33m \u001b[0mresults_data\u001b[0m\u001b[1;33m\u001b[0m\u001b[0m\n\u001b[0m",
      "\u001b[1;31mNameError\u001b[0m: name 'results_data' is not defined"
     ]
    }
   ],
   "source": [
    "def parse_results(results_data, metrics = [\"price\"]):\n",
    "    for symbol in list(stock_data[\"response\"].keys()):\n",
    "        data_dict = {\n",
    "            \"symbol\": symbol,\n",
    "        }\n",
    "        print(results_data[\"response\"])\n",
    "        \n",
    "        # download metrics\n",
    "        for metric in metrics:\n",
    "            extracted_data = stock_data[\"response\"][str(symbol)][\"results\"][str(metric)][\"data\"]\n",
    "            add_dict = {\n",
    "                \"date\" : extracted_data[0],\n",
    "                metric : extracted_data[1]\n",
    "            }\n",
    "            data_dict.update(add_dict)\n",
    "\n",
    "results_data"
   ]
  },
  {
   "cell_type": "code",
   "execution_count": 6,
   "metadata": {},
   "outputs": [
    {
     "data": {
      "text/html": [
       "<div>\n",
       "<style scoped>\n",
       "    .dataframe tbody tr th:only-of-type {\n",
       "        vertical-align: middle;\n",
       "    }\n",
       "\n",
       "    .dataframe tbody tr th {\n",
       "        vertical-align: top;\n",
       "    }\n",
       "\n",
       "    .dataframe thead th {\n",
       "        text-align: right;\n",
       "    }\n",
       "</style>\n",
       "<table border=\"1\" class=\"dataframe\">\n",
       "  <thead>\n",
       "    <tr style=\"text-align: right;\">\n",
       "      <th></th>\n",
       "      <th>Unnamed: 0</th>\n",
       "      <th>Unnamed: 0.1</th>\n",
       "      <th>date</th>\n",
       "      <th>open</th>\n",
       "      <th>high</th>\n",
       "      <th>low</th>\n",
       "      <th>close</th>\n",
       "      <th>volume</th>\n",
       "      <th>ticker</th>\n",
       "    </tr>\n",
       "  </thead>\n",
       "  <tbody>\n",
       "    <tr>\n",
       "      <th>0</th>\n",
       "      <td>0</td>\n",
       "      <td>0</td>\n",
       "      <td>2010-07-21</td>\n",
       "      <td>25.10</td>\n",
       "      <td>25.10</td>\n",
       "      <td>24.70</td>\n",
       "      <td>24.70</td>\n",
       "      <td>41999.0</td>\n",
       "      <td>AADR</td>\n",
       "    </tr>\n",
       "    <tr>\n",
       "      <th>1</th>\n",
       "      <td>1</td>\n",
       "      <td>1</td>\n",
       "      <td>2010-07-22</td>\n",
       "      <td>25.42</td>\n",
       "      <td>25.42</td>\n",
       "      <td>25.13</td>\n",
       "      <td>25.26</td>\n",
       "      <td>17480.0</td>\n",
       "      <td>AADR</td>\n",
       "    </tr>\n",
       "    <tr>\n",
       "      <th>2</th>\n",
       "      <td>2</td>\n",
       "      <td>2</td>\n",
       "      <td>2010-07-23</td>\n",
       "      <td>25.54</td>\n",
       "      <td>25.54</td>\n",
       "      <td>25.08</td>\n",
       "      <td>25.28</td>\n",
       "      <td>8625.0</td>\n",
       "      <td>AADR</td>\n",
       "    </tr>\n",
       "    <tr>\n",
       "      <th>3</th>\n",
       "      <td>3</td>\n",
       "      <td>3</td>\n",
       "      <td>2010-07-26</td>\n",
       "      <td>25.40</td>\n",
       "      <td>25.40</td>\n",
       "      <td>25.22</td>\n",
       "      <td>25.37</td>\n",
       "      <td>18850.0</td>\n",
       "      <td>AADR</td>\n",
       "    </tr>\n",
       "    <tr>\n",
       "      <th>4</th>\n",
       "      <td>4</td>\n",
       "      <td>4</td>\n",
       "      <td>2010-07-27</td>\n",
       "      <td>25.25</td>\n",
       "      <td>25.29</td>\n",
       "      <td>25.20</td>\n",
       "      <td>25.29</td>\n",
       "      <td>8200.0</td>\n",
       "      <td>AADR</td>\n",
       "    </tr>\n",
       "  </tbody>\n",
       "</table>\n",
       "</div>"
      ],
      "text/plain": [
       "   Unnamed: 0  Unnamed: 0.1        date   open   high    low  close   volume  \\\n",
       "0           0             0  2010-07-21  25.10  25.10  24.70  24.70  41999.0   \n",
       "1           1             1  2010-07-22  25.42  25.42  25.13  25.26  17480.0   \n",
       "2           2             2  2010-07-23  25.54  25.54  25.08  25.28   8625.0   \n",
       "3           3             3  2010-07-26  25.40  25.40  25.22  25.37  18850.0   \n",
       "4           4             4  2010-07-27  25.25  25.29  25.20  25.29   8200.0   \n",
       "\n",
       "  ticker  \n",
       "0   AADR  \n",
       "1   AADR  \n",
       "2   AADR  \n",
       "3   AADR  \n",
       "4   AADR  "
      ]
     },
     "execution_count": 6,
     "metadata": {},
     "output_type": "execute_result"
    }
   ],
   "source": [
    "import redis\n",
    "\n",
    "\n",
    "df = pd.read_csv(\"big_csv.csv\")\n",
    "df.head()"
   ]
  }
 ],
 "metadata": {
  "kernelspec": {
   "display_name": "Python 3",
   "language": "python",
   "name": "python3"
  },
  "language_info": {
   "codemirror_mode": {
    "name": "ipython",
    "version": 3
   },
   "file_extension": ".py",
   "mimetype": "text/x-python",
   "name": "python",
   "nbconvert_exporter": "python",
   "pygments_lexer": "ipython3",
   "version": "3.6.5"
  }
 },
 "nbformat": 4,
 "nbformat_minor": 2
}
